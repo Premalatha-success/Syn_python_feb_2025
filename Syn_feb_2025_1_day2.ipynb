{
 "cells": [
  {
   "cell_type": "markdown",
   "id": "abc41ef2-c508-49e1-863b-503c6909292c",
   "metadata": {},
   "source": [
    "##### list and tuple-> list [],tuple () or no brackets\n",
    "##### list is mutable and tuple is immutable"
   ]
  },
  {
   "cell_type": "markdown",
   "id": "fa953a86-98ab-431c-8d0c-def6f0c3b6ef",
   "metadata": {},
   "source": [
    "#### Tuple"
   ]
  },
  {
   "cell_type": "code",
   "execution_count": 1,
   "id": "29dd2e05-9506-43ed-bc9e-3d24977da563",
   "metadata": {},
   "outputs": [
    {
     "data": {
      "text/plain": [
       "(1, 3, 5, 7, 2.6, 'hello')"
      ]
     },
     "execution_count": 1,
     "metadata": {},
     "output_type": "execute_result"
    }
   ],
   "source": [
    "sample_tuple=(1,3,5,7,2.6,\"hello\")\n",
    "sample_tuple"
   ]
  },
  {
   "cell_type": "markdown",
   "id": "c1672303-49d5-4ba3-a799-219201f787ec",
   "metadata": {},
   "source": [
    "##### Tuple is heterogenous->allow multiple data types"
   ]
  },
  {
   "cell_type": "code",
   "execution_count": 2,
   "id": "371583d2-dadc-4a43-912d-29b78116d7c2",
   "metadata": {},
   "outputs": [
    {
     "data": {
      "text/plain": [
       "(1, 3, 5, 7, 2.6, 'hello')"
      ]
     },
     "execution_count": 2,
     "metadata": {},
     "output_type": "execute_result"
    }
   ],
   "source": [
    "sample_tuple1=1,3,5,7,2.6,\"hello\"\n",
    "sample_tuple1"
   ]
  },
  {
   "cell_type": "code",
   "execution_count": 3,
   "id": "c82cfd53-ecd9-4ea1-bc9b-57c8a292639b",
   "metadata": {},
   "outputs": [
    {
     "data": {
      "text/plain": [
       "('Latha', 16, 76.4, [78, 24, 16.9, 'hi'], 1, 2, 3)"
      ]
     },
     "execution_count": 3,
     "metadata": {},
     "output_type": "execute_result"
    }
   ],
   "source": [
    "tup2=(\"Latha\",16,76.4,[78,24,16.9,\"hi\"],1,2,3)\n",
    "tup2"
   ]
  },
  {
   "cell_type": "code",
   "execution_count": 4,
   "id": "0bdfd564-c9cd-478a-927b-cfca98f80812",
   "metadata": {},
   "outputs": [
    {
     "data": {
      "text/plain": [
       "6"
      ]
     },
     "execution_count": 4,
     "metadata": {},
     "output_type": "execute_result"
    }
   ],
   "source": [
    "### No of elements\n",
    "len(sample_tuple1)"
   ]
  },
  {
   "cell_type": "code",
   "execution_count": 5,
   "id": "d3bfbff8-a0d7-40de-a9bd-9a85099e60b2",
   "metadata": {},
   "outputs": [
    {
     "data": {
      "text/plain": [
       "7"
      ]
     },
     "execution_count": 5,
     "metadata": {},
     "output_type": "execute_result"
    }
   ],
   "source": [
    "len(tup2)"
   ]
  },
  {
   "cell_type": "code",
   "execution_count": 6,
   "id": "be691eda-c7aa-4fe6-a1f9-e2e27a4c238f",
   "metadata": {},
   "outputs": [
    {
     "data": {
      "text/plain": [
       "1"
      ]
     },
     "execution_count": 6,
     "metadata": {},
     "output_type": "execute_result"
    }
   ],
   "source": [
    "tup2.count(1)"
   ]
  },
  {
   "cell_type": "code",
   "execution_count": 7,
   "id": "1aef6902-5cf6-4774-9c39-234d0ef9b2cf",
   "metadata": {},
   "outputs": [
    {
     "data": {
      "text/plain": [
       "'Latha'"
      ]
     },
     "execution_count": 7,
     "metadata": {},
     "output_type": "execute_result"
    }
   ],
   "source": [
    "tup2[0]"
   ]
  },
  {
   "cell_type": "code",
   "execution_count": 8,
   "id": "c0fd4a94-54c8-485f-878f-8224d6f1ce7b",
   "metadata": {},
   "outputs": [
    {
     "data": {
      "text/plain": [
       "('Latha', 16, 76.4)"
      ]
     },
     "execution_count": 8,
     "metadata": {},
     "output_type": "execute_result"
    }
   ],
   "source": [
    "tup2[0:3]"
   ]
  },
  {
   "cell_type": "code",
   "execution_count": 10,
   "id": "53e073c5-2e71-4ba9-9452-2e27f5ca0e1f",
   "metadata": {},
   "outputs": [
    {
     "data": {
      "text/plain": [
       "78"
      ]
     },
     "execution_count": 10,
     "metadata": {},
     "output_type": "execute_result"
    }
   ],
   "source": [
    "tup2[3][0]"
   ]
  },
  {
   "cell_type": "code",
   "execution_count": 11,
   "id": "5a08ffd0-ed8d-43ed-9bc4-553c47231b27",
   "metadata": {},
   "outputs": [
    {
     "ename": "TypeError",
     "evalue": "'tuple' object does not support item assignment",
     "output_type": "error",
     "traceback": [
      "\u001b[1;31m---------------------------------------------------------------------------\u001b[0m",
      "\u001b[1;31mTypeError\u001b[0m                                 Traceback (most recent call last)",
      "Cell \u001b[1;32mIn[11], line 1\u001b[0m\n\u001b[1;32m----> 1\u001b[0m tup2[\u001b[38;5;241m0\u001b[39m]\u001b[38;5;241m=\u001b[39m\u001b[38;5;124m\"\u001b[39m\u001b[38;5;124mPython\u001b[39m\u001b[38;5;124m\"\u001b[39m\n",
      "\u001b[1;31mTypeError\u001b[0m: 'tuple' object does not support item assignment"
     ]
    }
   ],
   "source": [
    "tup2[0]=\"Python\""
   ]
  },
  {
   "cell_type": "markdown",
   "id": "dd2c9ab0-ae1d-497e-8c47-bef2404c2fa5",
   "metadata": {},
   "source": [
    "##### Tuple is immutable"
   ]
  },
  {
   "cell_type": "code",
   "execution_count": 12,
   "id": "15a37034-4b65-4b77-9a62-fb86cfecb154",
   "metadata": {},
   "outputs": [],
   "source": [
    "tup2[3][0]=100"
   ]
  },
  {
   "cell_type": "code",
   "execution_count": 13,
   "id": "1349352b-0663-492d-98ad-683da4b2c5dd",
   "metadata": {},
   "outputs": [
    {
     "data": {
      "text/plain": [
       "('Latha', 16, 76.4, [100, 24, 16.9, 'hi'], 1, 2, 3)"
      ]
     },
     "execution_count": 13,
     "metadata": {},
     "output_type": "execute_result"
    }
   ],
   "source": [
    "tup2"
   ]
  },
  {
   "cell_type": "code",
   "execution_count": 14,
   "id": "b1017f70-ecb3-4dbc-acdb-8a8104b939b4",
   "metadata": {},
   "outputs": [],
   "source": [
    "tup3=(\"latha\",16,[1,2,3,(25,78,17)],27,18.8)"
   ]
  },
  {
   "cell_type": "code",
   "execution_count": 15,
   "id": "673da2e6-7582-4031-a0d1-b16b73e85763",
   "metadata": {},
   "outputs": [
    {
     "data": {
      "text/plain": [
       "('latha', 16, [1, 2, 3, (25, 78, 17)], 27, 18.8)"
      ]
     },
     "execution_count": 15,
     "metadata": {},
     "output_type": "execute_result"
    }
   ],
   "source": [
    "tup3"
   ]
  },
  {
   "cell_type": "code",
   "execution_count": 16,
   "id": "41d0bfd9-6c53-402a-9ff7-f630793b05bb",
   "metadata": {},
   "outputs": [
    {
     "data": {
      "text/plain": [
       "25"
      ]
     },
     "execution_count": 16,
     "metadata": {},
     "output_type": "execute_result"
    }
   ],
   "source": [
    "tup3[2][3][0]"
   ]
  },
  {
   "cell_type": "code",
   "execution_count": 17,
   "id": "3a3d1fea-d942-4b58-914a-4f4cc9a3bd9b",
   "metadata": {},
   "outputs": [
    {
     "ename": "TypeError",
     "evalue": "'tuple' object does not support item assignment",
     "output_type": "error",
     "traceback": [
      "\u001b[1;31m---------------------------------------------------------------------------\u001b[0m",
      "\u001b[1;31mTypeError\u001b[0m                                 Traceback (most recent call last)",
      "Cell \u001b[1;32mIn[17], line 1\u001b[0m\n\u001b[1;32m----> 1\u001b[0m tup3[\u001b[38;5;241m2\u001b[39m][\u001b[38;5;241m3\u001b[39m][\u001b[38;5;241m0\u001b[39m]\u001b[38;5;241m=\u001b[39m\u001b[38;5;241m26\u001b[39m\n",
      "\u001b[1;31mTypeError\u001b[0m: 'tuple' object does not support item assignment"
     ]
    }
   ],
   "source": [
    "tup3[2][3][0]=26"
   ]
  },
  {
   "cell_type": "code",
   "execution_count": 18,
   "id": "f34d7e93-5abe-4239-aae1-9db078a446d1",
   "metadata": {},
   "outputs": [
    {
     "ename": "AttributeError",
     "evalue": "'tuple' object has no attribute 'sort'",
     "output_type": "error",
     "traceback": [
      "\u001b[1;31m---------------------------------------------------------------------------\u001b[0m",
      "\u001b[1;31mAttributeError\u001b[0m                            Traceback (most recent call last)",
      "Cell \u001b[1;32mIn[18], line 1\u001b[0m\n\u001b[1;32m----> 1\u001b[0m tup2\u001b[38;5;241m.\u001b[39msort()\n",
      "\u001b[1;31mAttributeError\u001b[0m: 'tuple' object has no attribute 'sort'"
     ]
    }
   ],
   "source": [
    "tup2.sort()"
   ]
  },
  {
   "cell_type": "code",
   "execution_count": 19,
   "id": "73ce1394-fb0e-46dd-ab76-263cc164894d",
   "metadata": {},
   "outputs": [
    {
     "data": {
      "text/plain": [
       "1"
      ]
     },
     "execution_count": 19,
     "metadata": {},
     "output_type": "execute_result"
    }
   ],
   "source": [
    "tup2.index(16)"
   ]
  },
  {
   "cell_type": "code",
   "execution_count": 20,
   "id": "08123b08-ad76-44dc-8dfb-d61c07176490",
   "metadata": {},
   "outputs": [
    {
     "ename": "AttributeError",
     "evalue": "'tuple' object has no attribute 'remove'",
     "output_type": "error",
     "traceback": [
      "\u001b[1;31m---------------------------------------------------------------------------\u001b[0m",
      "\u001b[1;31mAttributeError\u001b[0m                            Traceback (most recent call last)",
      "Cell \u001b[1;32mIn[20], line 1\u001b[0m\n\u001b[1;32m----> 1\u001b[0m tup2\u001b[38;5;241m.\u001b[39mremove(\u001b[38;5;241m16\u001b[39m)\n",
      "\u001b[1;31mAttributeError\u001b[0m: 'tuple' object has no attribute 'remove'"
     ]
    }
   ],
   "source": [
    "tup2.remove(16)"
   ]
  },
  {
   "cell_type": "code",
   "execution_count": 21,
   "id": "cdbf341e-99f3-4b38-beeb-394a916eee5b",
   "metadata": {},
   "outputs": [
    {
     "ename": "AttributeError",
     "evalue": "'tuple' object has no attribute 'add'",
     "output_type": "error",
     "traceback": [
      "\u001b[1;31m---------------------------------------------------------------------------\u001b[0m",
      "\u001b[1;31mAttributeError\u001b[0m                            Traceback (most recent call last)",
      "Cell \u001b[1;32mIn[21], line 1\u001b[0m\n\u001b[1;32m----> 1\u001b[0m tup2\u001b[38;5;241m.\u001b[39madd(\u001b[38;5;241m15\u001b[39m)\n",
      "\u001b[1;31mAttributeError\u001b[0m: 'tuple' object has no attribute 'add'"
     ]
    }
   ],
   "source": [
    "tup2.add(15)"
   ]
  },
  {
   "cell_type": "code",
   "execution_count": 22,
   "id": "0a935687-9d30-4b3a-8ddc-d86ad4f195c9",
   "metadata": {},
   "outputs": [
    {
     "data": {
      "text/plain": [
       "('latha',\n",
       " 16,\n",
       " [1, 2, 3, (25, 78, 17)],\n",
       " 27,\n",
       " 18.8,\n",
       " 'Latha',\n",
       " 16,\n",
       " 76.4,\n",
       " [100, 24, 16.9, 'hi'],\n",
       " 1,\n",
       " 2,\n",
       " 3)"
      ]
     },
     "execution_count": 22,
     "metadata": {},
     "output_type": "execute_result"
    }
   ],
   "source": [
    "tup=tup3+tup2\n",
    "tup"
   ]
  },
  {
   "cell_type": "code",
   "execution_count": 23,
   "id": "2b361492-8754-4167-996d-d932e54d7013",
   "metadata": {},
   "outputs": [
    {
     "name": "stdout",
     "output_type": "stream",
     "text": [
      "Latha\n",
      "16\n",
      "76.4\n",
      "[100, 24, 16.9, 'hi']\n",
      "1\n",
      "2\n",
      "3\n"
     ]
    }
   ],
   "source": [
    "for i in tup2:\n",
    "    print(i)"
   ]
  },
  {
   "cell_type": "code",
   "execution_count": 24,
   "id": "2f6d8e0d-5c6c-462d-b32a-a799175a8097",
   "metadata": {},
   "outputs": [
    {
     "name": "stdout",
     "output_type": "stream",
     "text": [
      "There is 16 in tuple\n"
     ]
    }
   ],
   "source": [
    "if 16 in tup2:\n",
    "    print(\"There is 16 in tuple\")"
   ]
  },
  {
   "cell_type": "code",
   "execution_count": 25,
   "id": "ddc41fbb-77b1-4424-9f6a-84ebbeecd0a1",
   "metadata": {},
   "outputs": [],
   "source": [
    "if 4 in tup2:\n",
    "    print(\"There is 4 in tuple\")"
   ]
  },
  {
   "cell_type": "code",
   "execution_count": 26,
   "id": "acf4ca56-21f7-45e0-9c96-e59a86d89468",
   "metadata": {},
   "outputs": [
    {
     "name": "stdout",
     "output_type": "stream",
     "text": [
      "4 is not there in tuple\n"
     ]
    }
   ],
   "source": [
    "if 4 in tup2:\n",
    "    print(\"There is 4 in tuple\")\n",
    "else:\n",
    "    print(\"4 is not there in tuple\")"
   ]
  },
  {
   "cell_type": "code",
   "execution_count": 27,
   "id": "0d930fa6-b365-4657-9435-f879fd0f0562",
   "metadata": {},
   "outputs": [
    {
     "data": {
      "text/plain": [
       "['Latha', 16, 76.4, [100, 24, 16.9, 'hi'], 1, 2, 3]"
      ]
     },
     "execution_count": 27,
     "metadata": {},
     "output_type": "execute_result"
    }
   ],
   "source": [
    "#### Convert tuple into list\n",
    "\n",
    "list_sample=list(tup2)\n",
    "list_sample"
   ]
  },
  {
   "cell_type": "code",
   "execution_count": 28,
   "id": "f008cf52-6780-49d5-ac08-338ba8590008",
   "metadata": {},
   "outputs": [
    {
     "data": {
      "text/plain": [
       "list"
      ]
     },
     "execution_count": 28,
     "metadata": {},
     "output_type": "execute_result"
    }
   ],
   "source": [
    "type(list_sample)"
   ]
  },
  {
   "cell_type": "markdown",
   "id": "da27363c-3455-4452-aed1-daab3e7ccae1",
   "metadata": {},
   "source": [
    "##### Try: Create a list and covert into tuple"
   ]
  },
  {
   "cell_type": "markdown",
   "id": "63e2f57a-3cde-465a-af11-7bc9099c7780",
   "metadata": {},
   "source": [
    "##### Try: Create an empty list\n",
    "##### Try: Create an empty tuple"
   ]
  },
  {
   "cell_type": "markdown",
   "id": "816876bd-54a1-4d68-a2a2-811c67fef889",
   "metadata": {},
   "source": [
    "#### Dictionary"
   ]
  },
  {
   "cell_type": "markdown",
   "id": "7234b86b-2625-43d5-bc57-497a3f755ba8",
   "metadata": {},
   "source": [
    "##### {}\n",
    "##### Key,value pair data structure"
   ]
  },
  {
   "cell_type": "code",
   "execution_count": 29,
   "id": "aa27ab1e-598f-4a45-8397-ab8dce7952e3",
   "metadata": {},
   "outputs": [
    {
     "data": {
      "text/plain": [
       "{'name': 'john', 'age': 18, 'course': ['Math']}"
      ]
     },
     "execution_count": 29,
     "metadata": {},
     "output_type": "execute_result"
    }
   ],
   "source": [
    "student={\"name\":\"john\",\"age\":18,\"course\":[\"Math\"]}\n",
    "student"
   ]
  },
  {
   "cell_type": "code",
   "execution_count": 31,
   "id": "fe10f307-d107-4e18-a9e2-593d2724aeb7",
   "metadata": {},
   "outputs": [
    {
     "data": {
      "text/plain": [
       "dict_keys(['name', 'age', 'course'])"
      ]
     },
     "execution_count": 31,
     "metadata": {},
     "output_type": "execute_result"
    }
   ],
   "source": [
    "student.keys()"
   ]
  },
  {
   "cell_type": "code",
   "execution_count": 32,
   "id": "21a127ef-429a-4c68-9b21-9be7adf9c01d",
   "metadata": {},
   "outputs": [
    {
     "data": {
      "text/plain": [
       "dict_values(['john', 18, ['Math']])"
      ]
     },
     "execution_count": 32,
     "metadata": {},
     "output_type": "execute_result"
    }
   ],
   "source": [
    "student.values()"
   ]
  },
  {
   "cell_type": "code",
   "execution_count": 33,
   "id": "eececb7f-1fe4-44a2-86ca-3fd3ab374cfb",
   "metadata": {},
   "outputs": [
    {
     "data": {
      "text/plain": [
       "dict_items([('name', 'john'), ('age', 18), ('course', ['Math'])])"
      ]
     },
     "execution_count": 33,
     "metadata": {},
     "output_type": "execute_result"
    }
   ],
   "source": [
    "student.items()"
   ]
  },
  {
   "cell_type": "code",
   "execution_count": 34,
   "id": "37a7666c-c5d3-4170-88f8-707701fcb76b",
   "metadata": {},
   "outputs": [
    {
     "data": {
      "text/plain": [
       "{'name': 'john', 'age': 18, 'courses': ['Math', 'Physics']}"
      ]
     },
     "execution_count": 34,
     "metadata": {},
     "output_type": "execute_result"
    }
   ],
   "source": [
    "student1={\"name\":\"john\",\"age\":18,\"courses\":[\"Math\",\"Physics\"]}\n",
    "student1"
   ]
  },
  {
   "cell_type": "code",
   "execution_count": 35,
   "id": "41f853db-9edb-4ef5-a2f4-451c0a8b8693",
   "metadata": {},
   "outputs": [
    {
     "ename": "TypeError",
     "evalue": "unhashable type: 'list'",
     "output_type": "error",
     "traceback": [
      "\u001b[1;31m---------------------------------------------------------------------------\u001b[0m",
      "\u001b[1;31mTypeError\u001b[0m                                 Traceback (most recent call last)",
      "Cell \u001b[1;32mIn[35], line 1\u001b[0m\n\u001b[1;32m----> 1\u001b[0m student\u001b[38;5;241m=\u001b[39m{\u001b[38;5;124m\"\u001b[39m\u001b[38;5;124mname\u001b[39m\u001b[38;5;124m\"\u001b[39m:\u001b[38;5;124m\"\u001b[39m\u001b[38;5;124mjohn\u001b[39m\u001b[38;5;124m\"\u001b[39m,\u001b[38;5;124m\"\u001b[39m\u001b[38;5;124mage\u001b[39m\u001b[38;5;124m\"\u001b[39m:\u001b[38;5;241m18\u001b[39m,[\u001b[38;5;124m\"\u001b[39m\u001b[38;5;124mcourse\u001b[39m\u001b[38;5;124m\"\u001b[39m,\u001b[38;5;124m\"\u001b[39m\u001b[38;5;124mdesignation\u001b[39m\u001b[38;5;124m\"\u001b[39m]:[\u001b[38;5;124m\"\u001b[39m\u001b[38;5;124mMath\u001b[39m\u001b[38;5;124m\"\u001b[39m]}\n\u001b[0;32m      2\u001b[0m student\n",
      "\u001b[1;31mTypeError\u001b[0m: unhashable type: 'list'"
     ]
    }
   ],
   "source": [
    "student={\"name\":\"john\",\"age\":18,[\"course\",\"designation\"]:[\"Math\"]}\n",
    "student"
   ]
  },
  {
   "cell_type": "code",
   "execution_count": 36,
   "id": "dfbb0222-9e89-426f-80b4-8e0e71379ffb",
   "metadata": {},
   "outputs": [
    {
     "data": {
      "text/plain": [
       "{'name': 'gdhdghs', 'age': 18, 'course': ['Math']}"
      ]
     },
     "execution_count": 36,
     "metadata": {},
     "output_type": "execute_result"
    }
   ],
   "source": [
    "student={\"name\":\"john\",\"age\":18,\"course\":[\"Math\"],\"name\":\"gdhdghs\"}\n",
    "student"
   ]
  },
  {
   "cell_type": "code",
   "execution_count": 38,
   "id": "d9fcf034-f284-4563-80f6-f6a749ca6b12",
   "metadata": {},
   "outputs": [
    {
     "data": {
      "text/plain": [
       "{'name': 'john', 'age': 18, 'course': ['Math'], 'first_name': 'john'}"
      ]
     },
     "execution_count": 38,
     "metadata": {},
     "output_type": "execute_result"
    }
   ],
   "source": [
    "student={\"name\":\"john\",\"age\":18,\"course\":[\"Math\"],\"first_name\":\"john\"}\n",
    "student"
   ]
  },
  {
   "cell_type": "markdown",
   "id": "e1ee19be-b449-4946-8515-ac7840ed4eee",
   "metadata": {},
   "source": [
    "##### Key is unique but the values can be duplicated"
   ]
  },
  {
   "cell_type": "code",
   "execution_count": 43,
   "id": "c8eb1340-ff78-41ef-b01c-35c4bea9be32",
   "metadata": {},
   "outputs": [
    {
     "data": {
      "text/plain": [
       "{'manager': 2,\n",
       " 3: [56, 12.7, 'king'],\n",
       " 'queen': (34, 56, 91.8, True),\n",
       " 'prince': {1: 'apple', 2: 17, 19: 'apple'}}"
      ]
     },
     "execution_count": 43,
     "metadata": {},
     "output_type": "execute_result"
    }
   ],
   "source": [
    "employees={\"manager\":2,3:[56,12.7,\"king\"],\"queen\":(34,56,91.8,True),\"prince\":{1:\"apple\",2:\"orange\",2:17,19:\"apple\"}}\n",
    "employees"
   ]
  },
  {
   "cell_type": "code",
   "execution_count": 44,
   "id": "eab1466e-53ef-44ba-9cd1-44bedd74dccc",
   "metadata": {},
   "outputs": [
    {
     "data": {
      "text/plain": [
       "{'name': 'john', 'age': 18, 'course': ['Math'], 'first_name': 'john'}"
      ]
     },
     "execution_count": 44,
     "metadata": {},
     "output_type": "execute_result"
    }
   ],
   "source": [
    "student"
   ]
  },
  {
   "cell_type": "code",
   "execution_count": 45,
   "id": "3c2db77e-df9b-4087-98c8-33693582fe6b",
   "metadata": {},
   "outputs": [
    {
     "ename": "KeyError",
     "evalue": "2",
     "output_type": "error",
     "traceback": [
      "\u001b[1;31m---------------------------------------------------------------------------\u001b[0m",
      "\u001b[1;31mKeyError\u001b[0m                                  Traceback (most recent call last)",
      "Cell \u001b[1;32mIn[45], line 1\u001b[0m\n\u001b[1;32m----> 1\u001b[0m student[\u001b[38;5;241m2\u001b[39m]\n",
      "\u001b[1;31mKeyError\u001b[0m: 2"
     ]
    }
   ],
   "source": [
    "student[2]"
   ]
  },
  {
   "cell_type": "code",
   "execution_count": 46,
   "id": "69a72daf-69d1-4f8d-8cb8-4b8b7fd5a882",
   "metadata": {},
   "outputs": [
    {
     "data": {
      "text/plain": [
       "['Math']"
      ]
     },
     "execution_count": 46,
     "metadata": {},
     "output_type": "execute_result"
    }
   ],
   "source": [
    "student[\"course\"]"
   ]
  },
  {
   "cell_type": "markdown",
   "id": "0febc08a-ca3a-42c3-a96b-70df5ac2d2d1",
   "metadata": {},
   "source": [
    "##### cannot access using index only with key"
   ]
  },
  {
   "cell_type": "code",
   "execution_count": 47,
   "id": "98689134-f6b3-4002-a3ac-d7fb45b17f1f",
   "metadata": {},
   "outputs": [],
   "source": [
    "student[\"email\"]=\"john@example.com\""
   ]
  },
  {
   "cell_type": "code",
   "execution_count": 48,
   "id": "a9ce38d4-2dce-459f-a0c8-367c84521cac",
   "metadata": {},
   "outputs": [
    {
     "data": {
      "text/plain": [
       "{'name': 'john',\n",
       " 'age': 18,\n",
       " 'course': ['Math'],\n",
       " 'first_name': 'john',\n",
       " 'email': 'john@example.com'}"
      ]
     },
     "execution_count": 48,
     "metadata": {},
     "output_type": "execute_result"
    }
   ],
   "source": [
    "student"
   ]
  },
  {
   "cell_type": "code",
   "execution_count": 49,
   "id": "f6c51c2c-4b46-4dfb-abb7-cf656525d352",
   "metadata": {},
   "outputs": [],
   "source": [
    "student[\"age\"]=21"
   ]
  },
  {
   "cell_type": "code",
   "execution_count": 50,
   "id": "5f5721d5-f720-4fac-ac89-758e5f107894",
   "metadata": {},
   "outputs": [
    {
     "data": {
      "text/plain": [
       "{'name': 'john',\n",
       " 'age': 21,\n",
       " 'course': ['Math'],\n",
       " 'first_name': 'john',\n",
       " 'email': 'john@example.com'}"
      ]
     },
     "execution_count": 50,
     "metadata": {},
     "output_type": "execute_result"
    }
   ],
   "source": [
    "student"
   ]
  },
  {
   "cell_type": "code",
   "execution_count": 51,
   "id": "552609f0-d7b0-4fcd-9a25-44bf12eb10f3",
   "metadata": {},
   "outputs": [],
   "source": [
    "student.update({\"phone\":12345678,\"courses\":[\"chemistry\",\"biology\"]})"
   ]
  },
  {
   "cell_type": "code",
   "execution_count": 52,
   "id": "0cb3a80d-7a4b-4f16-9434-2e89fc72aa71",
   "metadata": {},
   "outputs": [
    {
     "data": {
      "text/plain": [
       "{'name': 'john',\n",
       " 'age': 21,\n",
       " 'course': ['Math'],\n",
       " 'first_name': 'john',\n",
       " 'email': 'john@example.com',\n",
       " 'phone': 12345678,\n",
       " 'courses': ['chemistry', 'biology']}"
      ]
     },
     "execution_count": 52,
     "metadata": {},
     "output_type": "execute_result"
    }
   ],
   "source": [
    "student"
   ]
  },
  {
   "cell_type": "code",
   "execution_count": 55,
   "id": "6a8472cb-26b8-416c-9baa-d181aa38ee1c",
   "metadata": {},
   "outputs": [],
   "source": [
    "del student[\"email\"]"
   ]
  },
  {
   "cell_type": "code",
   "execution_count": 56,
   "id": "91902b5a-1b78-4dee-b00c-8a6a213a165b",
   "metadata": {},
   "outputs": [
    {
     "data": {
      "text/plain": [
       "{'name': 'john',\n",
       " 'age': 21,\n",
       " 'course': ['Math'],\n",
       " 'first_name': 'john',\n",
       " 'courses': ['chemistry', 'biology']}"
      ]
     },
     "execution_count": 56,
     "metadata": {},
     "output_type": "execute_result"
    }
   ],
   "source": [
    "student"
   ]
  },
  {
   "cell_type": "code",
   "execution_count": 57,
   "id": "e137ecee-ca39-4df0-b598-bd1673fdbabf",
   "metadata": {},
   "outputs": [
    {
     "data": {
      "text/plain": [
       "21"
      ]
     },
     "execution_count": 57,
     "metadata": {},
     "output_type": "execute_result"
    }
   ],
   "source": [
    "student.pop(\"age\")"
   ]
  },
  {
   "cell_type": "code",
   "execution_count": 58,
   "id": "d7db842b-95a1-4142-9575-d2d75ebdbb19",
   "metadata": {},
   "outputs": [
    {
     "data": {
      "text/plain": [
       "{'name': 'john',\n",
       " 'course': ['Math'],\n",
       " 'first_name': 'john',\n",
       " 'courses': ['chemistry', 'biology']}"
      ]
     },
     "execution_count": 58,
     "metadata": {},
     "output_type": "execute_result"
    }
   ],
   "source": [
    "student"
   ]
  },
  {
   "cell_type": "code",
   "execution_count": 59,
   "id": "927d3d96-7711-4a1b-900f-64e6ab30b33e",
   "metadata": {},
   "outputs": [
    {
     "data": {
      "text/plain": [
       "('courses', ['chemistry', 'biology'])"
      ]
     },
     "execution_count": 59,
     "metadata": {},
     "output_type": "execute_result"
    }
   ],
   "source": [
    "student.popitem()"
   ]
  },
  {
   "cell_type": "code",
   "execution_count": 60,
   "id": "a4ae99ae-96e0-4a98-bde0-88f62818ad63",
   "metadata": {},
   "outputs": [
    {
     "data": {
      "text/plain": [
       "{'name': 'john', 'course': ['Math'], 'first_name': 'john'}"
      ]
     },
     "execution_count": 60,
     "metadata": {},
     "output_type": "execute_result"
    }
   ],
   "source": [
    "student"
   ]
  },
  {
   "cell_type": "markdown",
   "id": "1c669e99-361f-48d8-805e-ce3b89187259",
   "metadata": {},
   "source": [
    "##### Create an empty dictionary"
   ]
  },
  {
   "cell_type": "markdown",
   "id": "f07393ff-0f33-4f6e-89cc-108286a58f7d",
   "metadata": {},
   "source": [
    "#### Set"
   ]
  },
  {
   "cell_type": "code",
   "execution_count": null,
   "id": "bf899762-9a8c-47ad-a8c1-c80d0b503d29",
   "metadata": {},
   "outputs": [],
   "source": [
    "##### {}"
   ]
  },
  {
   "cell_type": "code",
   "execution_count": 61,
   "id": "3a915323-b3d6-45e2-9b61-901332223333",
   "metadata": {},
   "outputs": [
    {
     "data": {
      "text/plain": [
       "{1, 2, 3, 4, 5, 6}"
      ]
     },
     "execution_count": 61,
     "metadata": {},
     "output_type": "execute_result"
    }
   ],
   "source": [
    "myset={1,2,3,4,5,6}\n",
    "myset"
   ]
  },
  {
   "cell_type": "code",
   "execution_count": 63,
   "id": "23a09f23-e147-4ba3-9d9f-4ba61e115000",
   "metadata": {},
   "outputs": [
    {
     "data": {
      "text/plain": [
       "{1, 15.9, 'python'}"
      ]
     },
     "execution_count": 63,
     "metadata": {},
     "output_type": "execute_result"
    }
   ],
   "source": [
    "myset1={1,15.9,True,\"python\"}\n",
    "myset1"
   ]
  },
  {
   "cell_type": "code",
   "execution_count": 65,
   "id": "75fb7f33-826d-4bea-bf5e-10d8ba30b392",
   "metadata": {},
   "outputs": [
    {
     "data": {
      "text/plain": [
       "{0, 15.9, 'python'}"
      ]
     },
     "execution_count": 65,
     "metadata": {},
     "output_type": "execute_result"
    }
   ],
   "source": [
    "myset2={0,15.9,False,\"python\"}\n",
    "myset2"
   ]
  },
  {
   "cell_type": "code",
   "execution_count": 66,
   "id": "7582f4e2-78ca-448c-b5cc-15cf731de9b5",
   "metadata": {},
   "outputs": [
    {
     "data": {
      "text/plain": [
       "{15.9, 2, False, 'python'}"
      ]
     },
     "execution_count": 66,
     "metadata": {},
     "output_type": "execute_result"
    }
   ],
   "source": [
    "myset2={2,15.9,False,\"python\"}\n",
    "myset2"
   ]
  },
  {
   "cell_type": "code",
   "execution_count": 64,
   "id": "f4224f47-7ae6-4767-9449-abfc3ea1850a",
   "metadata": {},
   "outputs": [
    {
     "data": {
      "text/plain": [
       "{15.9, 2, True, 'python'}"
      ]
     },
     "execution_count": 64,
     "metadata": {},
     "output_type": "execute_result"
    }
   ],
   "source": [
    "myset1={2,15.9,True,\"python\"}\n",
    "myset1"
   ]
  },
  {
   "cell_type": "code",
   "execution_count": 67,
   "id": "a391563d-1970-48f5-83d3-b20298bd4035",
   "metadata": {},
   "outputs": [
    {
     "data": {
      "text/plain": [
       "{1,\n",
       " 19.4,\n",
       " 2,\n",
       " 20000,\n",
       " 229,\n",
       " 3.2,\n",
       " 37,\n",
       " 79.4,\n",
       " 'Python',\n",
       " 'Rabbit',\n",
       " 'csv',\n",
       " 'json',\n",
       " 'python'}"
      ]
     },
     "execution_count": 67,
     "metadata": {},
     "output_type": "execute_result"
    }
   ],
   "source": [
    "myset3={1,2,2,79.4,229,19.4,37,3.2,20000,\"Python\",\"python\",\"csv\",\"json\",\"Rabbit\"}\n",
    "myset3"
   ]
  },
  {
   "cell_type": "markdown",
   "id": "a25555c9-0359-4f3b-a111-da272f50925f",
   "metadata": {},
   "source": [
    "##### Set allows unique values\n",
    "##### Sorted according to the order(first digits)"
   ]
  },
  {
   "cell_type": "markdown",
   "id": "3577f6fb-db3e-4109-b313-fe9346fa4c30",
   "metadata": {},
   "source": [
    "### explore with list,tuple ,dictionary-> allows tuple,doesn't allow list or dictionary or set"
   ]
  },
  {
   "cell_type": "code",
   "execution_count": 68,
   "id": "6bbac9fa-c4e2-4e7f-9e06-3453df10472d",
   "metadata": {},
   "outputs": [
    {
     "ename": "TypeError",
     "evalue": "'set' object is not subscriptable",
     "output_type": "error",
     "traceback": [
      "\u001b[1;31m---------------------------------------------------------------------------\u001b[0m",
      "\u001b[1;31mTypeError\u001b[0m                                 Traceback (most recent call last)",
      "Cell \u001b[1;32mIn[68], line 1\u001b[0m\n\u001b[1;32m----> 1\u001b[0m myset3[\u001b[38;5;241m0\u001b[39m]\n",
      "\u001b[1;31mTypeError\u001b[0m: 'set' object is not subscriptable"
     ]
    }
   ],
   "source": [
    "myset3[0]"
   ]
  },
  {
   "cell_type": "code",
   "execution_count": 70,
   "id": "d8da4cfe-f2a4-404b-93f1-e2f7508bba62",
   "metadata": {},
   "outputs": [
    {
     "ename": "AttributeError",
     "evalue": "'set' object has no attribute 'append'",
     "output_type": "error",
     "traceback": [
      "\u001b[1;31m---------------------------------------------------------------------------\u001b[0m",
      "\u001b[1;31mAttributeError\u001b[0m                            Traceback (most recent call last)",
      "Cell \u001b[1;32mIn[70], line 1\u001b[0m\n\u001b[1;32m----> 1\u001b[0m myset3\u001b[38;5;241m.\u001b[39mappend(\u001b[38;5;241m5\u001b[39m)\n",
      "\u001b[1;31mAttributeError\u001b[0m: 'set' object has no attribute 'append'"
     ]
    }
   ],
   "source": [
    "myset3.append(5)"
   ]
  },
  {
   "cell_type": "code",
   "execution_count": 71,
   "id": "d8ce468c-fa8b-4aef-9391-2473c7ba4d33",
   "metadata": {},
   "outputs": [],
   "source": [
    "myset3.add(5)"
   ]
  },
  {
   "cell_type": "code",
   "execution_count": 72,
   "id": "93722ad8-0578-4ec0-b621-a70c1fb2b600",
   "metadata": {},
   "outputs": [
    {
     "data": {
      "text/plain": [
       "{1,\n",
       " 19.4,\n",
       " 2,\n",
       " 20000,\n",
       " 229,\n",
       " 3.2,\n",
       " 37,\n",
       " 5,\n",
       " 79.4,\n",
       " 'Python',\n",
       " 'Rabbit',\n",
       " 'csv',\n",
       " 'json',\n",
       " 'python'}"
      ]
     },
     "execution_count": 72,
     "metadata": {},
     "output_type": "execute_result"
    }
   ],
   "source": [
    "myset3"
   ]
  },
  {
   "cell_type": "code",
   "execution_count": 73,
   "id": "0ae9aaea-c2ed-40b6-bbfa-fb8276298f7b",
   "metadata": {},
   "outputs": [],
   "source": [
    "myset3.remove(\"json\")"
   ]
  },
  {
   "cell_type": "code",
   "execution_count": 74,
   "id": "4529e9e3-62a1-4f85-b6e0-3948dcd5fd0c",
   "metadata": {},
   "outputs": [
    {
     "data": {
      "text/plain": [
       "{1, 19.4, 2, 20000, 229, 3.2, 37, 5, 79.4, 'Python', 'Rabbit', 'csv', 'python'}"
      ]
     },
     "execution_count": 74,
     "metadata": {},
     "output_type": "execute_result"
    }
   ],
   "source": [
    "myset3"
   ]
  },
  {
   "cell_type": "code",
   "execution_count": 75,
   "id": "45e0eb09-7e86-4993-b744-d7d3bcc1353a",
   "metadata": {},
   "outputs": [
    {
     "data": {
      "text/plain": [
       "13"
      ]
     },
     "execution_count": 75,
     "metadata": {},
     "output_type": "execute_result"
    }
   ],
   "source": [
    "len(myset3)"
   ]
  },
  {
   "cell_type": "code",
   "execution_count": 76,
   "id": "99fa5fba-d8f0-41f7-8c3d-ec9ed637eb5a",
   "metadata": {},
   "outputs": [
    {
     "ename": "AttributeError",
     "evalue": "'set' object has no attribute 'count'",
     "output_type": "error",
     "traceback": [
      "\u001b[1;31m---------------------------------------------------------------------------\u001b[0m",
      "\u001b[1;31mAttributeError\u001b[0m                            Traceback (most recent call last)",
      "Cell \u001b[1;32mIn[76], line 1\u001b[0m\n\u001b[1;32m----> 1\u001b[0m myset3\u001b[38;5;241m.\u001b[39mcount(\u001b[38;5;241m1\u001b[39m)\n",
      "\u001b[1;31mAttributeError\u001b[0m: 'set' object has no attribute 'count'"
     ]
    }
   ],
   "source": [
    "myset3.count(1)"
   ]
  },
  {
   "cell_type": "code",
   "execution_count": 77,
   "id": "c36de816-3bd9-4a55-8319-907d27d1eec3",
   "metadata": {},
   "outputs": [],
   "source": [
    "fruits={\"Apple\",\"Orange\",\"Banana\",\"Tomato\"}\n",
    "veg={\"carrot\",\"Mango\",\"Tomato\"}"
   ]
  },
  {
   "cell_type": "code",
   "execution_count": 78,
   "id": "ba5aaf7f-1bcb-4566-9e0c-7feace7a87d1",
   "metadata": {},
   "outputs": [
    {
     "data": {
      "text/plain": [
       "{'Apple', 'Banana', 'Orange'}"
      ]
     },
     "execution_count": 78,
     "metadata": {},
     "output_type": "execute_result"
    }
   ],
   "source": [
    "fruits.difference(veg)"
   ]
  },
  {
   "cell_type": "code",
   "execution_count": 79,
   "id": "d2f6a58c-8f97-41af-9dfd-f0b9272fc2b9",
   "metadata": {},
   "outputs": [
    {
     "data": {
      "text/plain": [
       "{'Tomato'}"
      ]
     },
     "execution_count": 79,
     "metadata": {},
     "output_type": "execute_result"
    }
   ],
   "source": [
    "fruits.intersection(veg)"
   ]
  },
  {
   "cell_type": "markdown",
   "id": "79d4402a-998a-4cb9-9813-46f497739503",
   "metadata": {},
   "source": [
    "##### Explore for union\n",
    "##### for loop\n",
    "##### whether Tomato is in fruits(if-else)"
   ]
  },
  {
   "cell_type": "markdown",
   "id": "742050aa-82df-4aa9-87e6-5b2a823a171b",
   "metadata": {},
   "source": [
    "#### Conditional Statements"
   ]
  },
  {
   "cell_type": "code",
   "execution_count": 80,
   "id": "a28e5e70-2c16-4480-a18c-c23c6f1805bf",
   "metadata": {},
   "outputs": [
    {
     "name": "stdout",
     "output_type": "stream",
     "text": [
      "5 is positive\n"
     ]
    }
   ],
   "source": [
    "### Check whether the number is positive\n",
    "num=5\n",
    "\n",
    "if num>0:\n",
    "    print(num,\"is positive\")"
   ]
  },
  {
   "cell_type": "code",
   "execution_count": 81,
   "id": "c74030e5-fa1d-4725-8c43-60d2c5067540",
   "metadata": {},
   "outputs": [],
   "source": [
    "num=-5\n",
    "\n",
    "if num>0:\n",
    "    print(num,\"is positive\")"
   ]
  },
  {
   "cell_type": "code",
   "execution_count": 82,
   "id": "724c41fa-f546-4fcf-99ff-22efe0bc53dc",
   "metadata": {},
   "outputs": [],
   "source": [
    "num=0\n",
    "\n",
    "if num>0:\n",
    "    print(num,\"is positive\")"
   ]
  },
  {
   "cell_type": "code",
   "execution_count": 86,
   "id": "e4d675a9-65b3-4467-acc3-dbf8a6cf9b3b",
   "metadata": {},
   "outputs": [
    {
     "name": "stdout",
     "output_type": "stream",
     "text": [
      "1900 is positive\n"
     ]
    }
   ],
   "source": [
    "num=1900\n",
    "\n",
    "if num>0:\n",
    "    print(num,\"is positive\")\n",
    "else:\n",
    "    print(num,\"is negative\")"
   ]
  },
  {
   "cell_type": "code",
   "execution_count": 95,
   "id": "d4c545ad-44d4-4a32-8066-b02fd4c07f39",
   "metadata": {},
   "outputs": [
    {
     "name": "stdout",
     "output_type": "stream",
     "text": [
      "10.5 is positive\n"
     ]
    }
   ],
   "source": [
    "num=10.5\n",
    "\n",
    "if num>0:\n",
    "    print(num,\"is positive\")\n",
    "elif num ==0:\n",
    "    print(num,\"is equal to zero\")\n",
    "else:\n",
    "    print(num,\"is negative\")"
   ]
  },
  {
   "cell_type": "code",
   "execution_count": 119,
   "id": "60600981-e034-4505-902c-28ee77f9a561",
   "metadata": {},
   "outputs": [
    {
     "name": "stdout",
     "output_type": "stream",
     "text": [
      "14567892 is even\n"
     ]
    }
   ],
   "source": [
    "#### Check whether the gn number is odd or even:\n",
    "num=14567892\n",
    "if num % 2 ==0:\n",
    "    print(num,\"is even\")\n",
    "else:\n",
    "    print(\"odd\")"
   ]
  },
  {
   "cell_type": "code",
   "execution_count": 122,
   "id": "8097a0ec-219c-4d50-b72d-affdc317e062",
   "metadata": {},
   "outputs": [
    {
     "name": "stdout",
     "output_type": "stream",
     "text": [
      "12 is even\n"
     ]
    }
   ],
   "source": [
    "num=round(11.513678)\n",
    "if num % 2 ==0:\n",
    "    print(num,\"is even\")\n",
    "elif num == 0:\n",
    "    print(\"zero\")\n",
    "else:\n",
    "    print(\"odd\")"
   ]
  },
  {
   "cell_type": "code",
   "execution_count": 130,
   "id": "28a79c49-00cd-469d-a052-e63076b8fd81",
   "metadata": {},
   "outputs": [
    {
     "name": "stdout",
     "output_type": "stream",
     "text": [
      "The Fare will be Rs.25\n"
     ]
    }
   ],
   "source": [
    "age=20\n",
    "if age<=3:\n",
    "    print(\"No Fare for under the age 3\")\n",
    "elif age<=10:\n",
    "    print(\"The Fare will be Rs.20\")\n",
    "elif age<=20:\n",
    "    print(\"The Fare will be Rs.25\")\n",
    "else:\n",
    "    print(\"The Fare will be Rs.30\")"
   ]
  },
  {
   "cell_type": "markdown",
   "id": "41079c4c-35c3-4410-82b2-48f2f718a62e",
   "metadata": {},
   "source": [
    "#### Explore-> Grade Categorizer"
   ]
  },
  {
   "cell_type": "code",
   "execution_count": 132,
   "id": "0e0e72da-a5ec-4d24-905a-3eec85579980",
   "metadata": {},
   "outputs": [
    {
     "name": "stdout",
     "output_type": "stream",
     "text": [
      "invalid\n"
     ]
    }
   ],
   "source": [
    "num=15\n",
    "\n",
    "if num >0 and num <=100 and num%2 ==0:\n",
    "    print(\"valid even number in range 1-100\")\n",
    "else:\n",
    "    print(\"invalid\")"
   ]
  },
  {
   "cell_type": "code",
   "execution_count": 136,
   "id": "ee80ae36-1c2b-4aa3-a7bc-d202678c4b53",
   "metadata": {},
   "outputs": [
    {
     "name": "stdout",
     "output_type": "stream",
     "text": [
      "a is equal to b\n"
     ]
    }
   ],
   "source": [
    "a=100\n",
    "b=100\n",
    "\n",
    "if a>b:\n",
    "    print(\"a is greater than b\")\n",
    "elif a==b:\n",
    "    print(\"a is equal to b\")\n",
    "else:\n",
    "    print(\"b is greater than a\")"
   ]
  },
  {
   "cell_type": "code",
   "execution_count": 142,
   "id": "b3a974c0-e9d3-401b-ab67-f61a29f2bfca",
   "metadata": {},
   "outputs": [
    {
     "name": "stdout",
     "output_type": "stream",
     "text": [
      "num3 is greater\n"
     ]
    }
   ],
   "source": [
    "num1=40\n",
    "num2=12\n",
    "num3=300\n",
    "if num1>num2 and num1>num3:\n",
    "    print(\"num1 is greater\")\n",
    "elif num2>num1 and num2>num3:\n",
    "    print(\"num2 is greater\")\n",
    "else:\n",
    "    print(\"num3 is greater\")"
   ]
  },
  {
   "cell_type": "code",
   "execution_count": 145,
   "id": "23d9c9f2-4321-47a6-98be-799df3fd148b",
   "metadata": {},
   "outputs": [
    {
     "name": "stdout",
     "output_type": "stream",
     "text": [
      "the char is not a vowel\n"
     ]
    }
   ],
   "source": [
    "char=\"n\"\n",
    "\n",
    "if char in \"AEIOUaeiou\":\n",
    "    print(\"The char is a vowel\")\n",
    "else:\n",
    "    print(\"the char is not a vowel\")"
   ]
  },
  {
   "cell_type": "code",
   "execution_count": 150,
   "id": "270e7628-f5fc-47b4-b7b1-8287e4573032",
   "metadata": {},
   "outputs": [
    {
     "name": "stdout",
     "output_type": "stream",
     "text": [
      "Wrong password\n"
     ]
    }
   ],
   "source": [
    "username=\"admin\"\n",
    "password=\"secret123\"\n",
    "\n",
    "username=\"admin\"\n",
    "password=\"secrt123\"\n",
    "if username!=\"admin\":\n",
    "    print(\"Invalid username\")\n",
    "elif password!=\"secret123\":\n",
    "    print(\"Wrong password\"); \n",
    "else:\n",
    "    print(\"login succeesful\")"
   ]
  },
  {
   "cell_type": "markdown",
   "id": "093a961c-770a-441b-948e-88bcde152934",
   "metadata": {},
   "source": [
    "##### Loops"
   ]
  },
  {
   "cell_type": "code",
   "execution_count": 151,
   "id": "c5963047-8a2d-4f5f-a93b-ed9be3d2be80",
   "metadata": {},
   "outputs": [
    {
     "name": "stdout",
     "output_type": "stream",
     "text": [
      "1\n",
      "2\n",
      "3\n",
      "4\n",
      "5\n"
     ]
    }
   ],
   "source": [
    "### Print numbers from 1 to 5\n",
    "\n",
    "for i in range(1,6):\n",
    "    print(i)"
   ]
  },
  {
   "cell_type": "code",
   "execution_count": 152,
   "id": "5d19de21-4080-42c0-bbff-3fe2090636e6",
   "metadata": {},
   "outputs": [
    {
     "name": "stdout",
     "output_type": "stream",
     "text": [
      "1\n",
      "3\n",
      "5\n"
     ]
    }
   ],
   "source": [
    "for i in range(1,6,2):\n",
    "    print(i)"
   ]
  },
  {
   "cell_type": "code",
   "execution_count": 153,
   "id": "9609bdc5-6ab9-4463-93cb-b5a369f5918f",
   "metadata": {},
   "outputs": [
    {
     "name": "stdout",
     "output_type": "stream",
     "text": [
      "2\n",
      "4\n",
      "6\n",
      "8\n",
      "10\n",
      "12\n",
      "14\n",
      "16\n",
      "18\n",
      "20\n",
      "22\n",
      "24\n",
      "26\n",
      "28\n",
      "30\n",
      "32\n",
      "34\n",
      "36\n",
      "38\n",
      "40\n",
      "42\n",
      "44\n",
      "46\n",
      "48\n",
      "50\n",
      "52\n",
      "54\n",
      "56\n",
      "58\n",
      "60\n",
      "62\n",
      "64\n",
      "66\n",
      "68\n",
      "70\n",
      "72\n",
      "74\n",
      "76\n",
      "78\n",
      "80\n",
      "82\n",
      "84\n",
      "86\n",
      "88\n",
      "90\n",
      "92\n",
      "94\n",
      "96\n",
      "98\n",
      "100\n"
     ]
    }
   ],
   "source": [
    "for i in range(2,101,2):\n",
    "    print(i)"
   ]
  },
  {
   "cell_type": "code",
   "execution_count": 154,
   "id": "860382c4-9c38-44ca-93fd-c8be45e8ad4c",
   "metadata": {},
   "outputs": [
    {
     "name": "stdout",
     "output_type": "stream",
     "text": [
      "2\n",
      "4\n",
      "6\n",
      "8\n",
      "10\n",
      "12\n",
      "14\n",
      "16\n",
      "18\n",
      "20\n",
      "22\n",
      "24\n",
      "26\n",
      "28\n",
      "30\n",
      "32\n",
      "34\n",
      "36\n",
      "38\n",
      "40\n",
      "42\n",
      "44\n",
      "46\n",
      "48\n",
      "50\n",
      "52\n",
      "54\n",
      "56\n",
      "58\n",
      "60\n",
      "62\n",
      "64\n",
      "66\n",
      "68\n",
      "70\n",
      "72\n",
      "74\n",
      "76\n",
      "78\n",
      "80\n",
      "82\n",
      "84\n",
      "86\n",
      "88\n",
      "90\n",
      "92\n",
      "94\n",
      "96\n",
      "98\n",
      "100\n"
     ]
    }
   ],
   "source": [
    "for i in range(1,101):\n",
    "    if i % 2==0:\n",
    "        print(i)"
   ]
  },
  {
   "cell_type": "code",
   "execution_count": 155,
   "id": "f61b0232-98bd-4b05-83ae-1340bcee40c6",
   "metadata": {},
   "outputs": [
    {
     "name": "stdout",
     "output_type": "stream",
     "text": [
      "1\n",
      "4\n",
      "9\n",
      "16\n",
      "25\n"
     ]
    }
   ],
   "source": [
    "for i in range(1,6):\n",
    "    print(i**2) #i*i"
   ]
  },
  {
   "cell_type": "code",
   "execution_count": 157,
   "id": "1bd1c065-c950-4a59-95e4-9241319cbc18",
   "metadata": {},
   "outputs": [
    {
     "name": "stdout",
     "output_type": "stream",
     "text": [
      "55\n"
     ]
    }
   ],
   "source": [
    "### sum of n natural numbers\n",
    "\n",
    "sum=0\n",
    "for i in range(1,11):\n",
    "    sum=sum + i\n",
    "print(sum)"
   ]
  },
  {
   "cell_type": "code",
   "execution_count": 158,
   "id": "96b3cccc-9e61-4174-a5f8-192dbdcf3896",
   "metadata": {},
   "outputs": [
    {
     "name": "stdout",
     "output_type": "stream",
     "text": [
      "55\n"
     ]
    }
   ],
   "source": [
    "sum=0\n",
    "for i in range(1,11):\n",
    "    sum+= i\n",
    "print(sum)"
   ]
  },
  {
   "cell_type": "code",
   "execution_count": 159,
   "id": "6d140ad6-728c-411a-a9a8-05135c7366ee",
   "metadata": {},
   "outputs": [
    {
     "data": {
      "text/plain": [
       "30"
      ]
     },
     "execution_count": 159,
     "metadata": {},
     "output_type": "execute_result"
    }
   ],
   "source": [
    "sum=0\n",
    "for i in range(2,11,2):\n",
    "    sum=sum+i\n",
    "sum"
   ]
  },
  {
   "cell_type": "code",
   "execution_count": 160,
   "id": "d1fca8a0-41f1-41a9-8f19-17cbc67affad",
   "metadata": {},
   "outputs": [
    {
     "name": "stdout",
     "output_type": "stream",
     "text": [
      "30\n"
     ]
    }
   ],
   "source": [
    "sum=0\n",
    "for i in range(1,11):\n",
    "    if i%2==0:\n",
    "        sum+=i\n",
    "print(sum)"
   ]
  },
  {
   "cell_type": "code",
   "execution_count": 161,
   "id": "91c7f4a6-7887-4d00-9e96-27fde130553a",
   "metadata": {},
   "outputs": [
    {
     "name": "stdout",
     "output_type": "stream",
     "text": [
      "apple\n",
      "banana\n",
      "cherry\n"
     ]
    }
   ],
   "source": [
    "fruits=[\"apple\",\"banana\",\"cherry\"]\n",
    "for fruit in fruits:\n",
    "    print(fruit)"
   ]
  },
  {
   "cell_type": "code",
   "execution_count": 162,
   "id": "c125312f-20a5-4568-8fb7-99acaa38ec49",
   "metadata": {},
   "outputs": [
    {
     "name": "stdout",
     "output_type": "stream",
     "text": [
      "P\n",
      "y\n",
      "t\n",
      "h\n",
      "o\n",
      "n\n"
     ]
    }
   ],
   "source": [
    "word=\"Python\"\n",
    "for char in word:\n",
    "    print(char)"
   ]
  },
  {
   "cell_type": "code",
   "execution_count": 165,
   "id": "ab1c7ad3-1f32-41ad-818c-2bcdac968160",
   "metadata": {},
   "outputs": [
    {
     "name": "stdout",
     "output_type": "stream",
     "text": [
      "P               y               t               h               o               n               "
     ]
    }
   ],
   "source": [
    "word=\"Python\"\n",
    "for char in word:\n",
    "    print(char,end=\"               \")"
   ]
  },
  {
   "cell_type": "code",
   "execution_count": 166,
   "id": "19fd6dfa-61eb-4d02-87e6-ebcdfad34df6",
   "metadata": {},
   "outputs": [
    {
     "name": "stdout",
     "output_type": "stream",
     "text": [
      "0\n",
      "1\n",
      "2\n",
      "Breaking at 3\n"
     ]
    }
   ],
   "source": [
    "for i in range(5):\n",
    "    if i==3:\n",
    "        print(\"Breaking at\",i)\n",
    "        break\n",
    "    print(i)"
   ]
  },
  {
   "cell_type": "code",
   "execution_count": 167,
   "id": "352223e9-049f-4341-a3bb-4b77594e6bae",
   "metadata": {},
   "outputs": [
    {
     "name": "stdout",
     "output_type": "stream",
     "text": [
      "0\n",
      "1\n",
      "2\n"
     ]
    }
   ],
   "source": [
    "for i in range(5):\n",
    "    if i==3:\n",
    "       break\n",
    "    print(i)"
   ]
  },
  {
   "cell_type": "code",
   "execution_count": 168,
   "id": "79a53c31-66c6-4efa-b2da-bb674a348f06",
   "metadata": {},
   "outputs": [
    {
     "name": "stdout",
     "output_type": "stream",
     "text": [
      "0\n",
      "1\n",
      "2\n",
      "4\n"
     ]
    }
   ],
   "source": [
    "for i in range(5):\n",
    "    if i==3:\n",
    "       continue\n",
    "    print(i)"
   ]
  },
  {
   "cell_type": "code",
   "execution_count": 169,
   "id": "902ff820-da0f-4f5f-a451-3069ddd11875",
   "metadata": {},
   "outputs": [],
   "source": [
    "student={\"name\":\"Tom\",\"age\":46,\"skill\":\"AI\"}"
   ]
  },
  {
   "cell_type": "code",
   "execution_count": 171,
   "id": "e8349b96-60eb-4b9c-86bf-f388297fd48b",
   "metadata": {},
   "outputs": [
    {
     "name": "stdout",
     "output_type": "stream",
     "text": [
      "name : Tom\n",
      "age : 46\n",
      "skill : AI\n"
     ]
    }
   ],
   "source": [
    "for key,value in student.items():\n",
    "    print(key,\":\",value)"
   ]
  },
  {
   "cell_type": "markdown",
   "id": "235ef669-4f56-4524-af4a-98cbf236f00d",
   "metadata": {},
   "source": [
    "#### While"
   ]
  },
  {
   "cell_type": "code",
   "execution_count": 172,
   "id": "024e1f28-37a6-427d-b2c4-0e4872a3c873",
   "metadata": {},
   "outputs": [
    {
     "name": "stdout",
     "output_type": "stream",
     "text": [
      "1\n",
      "2\n",
      "3\n",
      "4\n",
      "5\n"
     ]
    }
   ],
   "source": [
    "for i in range(1,6):\n",
    "    print(i)"
   ]
  },
  {
   "cell_type": "code",
   "execution_count": 173,
   "id": "d8ed96f6-8755-4ad9-bae9-d6728b745e71",
   "metadata": {},
   "outputs": [
    {
     "name": "stdout",
     "output_type": "stream",
     "text": [
      "1\n",
      "2\n",
      "3\n",
      "4\n",
      "5\n"
     ]
    }
   ],
   "source": [
    "count=1\n",
    "\n",
    "while count<=5:\n",
    "    print(count)\n",
    "    count+=1"
   ]
  },
  {
   "cell_type": "code",
   "execution_count": 175,
   "id": "4c5adef2-4554-4ce9-bf09-eb7e3e188a33",
   "metadata": {},
   "outputs": [
    {
     "name": "stdout",
     "output_type": "stream",
     "text": [
      "5\n",
      "4\n",
      "3\n",
      "2\n",
      "1\n"
     ]
    }
   ],
   "source": [
    "count=5\n",
    "\n",
    "while count>=1:\n",
    "    print(count)\n",
    "    count-=1"
   ]
  },
  {
   "cell_type": "code",
   "execution_count": 176,
   "id": "bae67040-e8fb-4ae1-8f81-6d399b591b41",
   "metadata": {},
   "outputs": [
    {
     "name": "stdout",
     "output_type": "stream",
     "text": [
      "hello\n",
      "hello\n",
      "hello\n",
      "hello\n",
      "hello\n"
     ]
    }
   ],
   "source": [
    "count=0\n",
    "\n",
    "while count<5:\n",
    "    print(\"hello\")\n",
    "    count+=1"
   ]
  },
  {
   "cell_type": "code",
   "execution_count": 177,
   "id": "030f00b8-ddb3-4712-b40f-559c6cf49d4b",
   "metadata": {},
   "outputs": [
    {
     "name": "stdout",
     "output_type": "stream",
     "text": [
      "k\n",
      "n\n",
      "o\n",
      "w\n",
      "l\n",
      "e\n",
      "d\n"
     ]
    }
   ],
   "source": [
    "text=\"knowledge\"\n",
    "\n",
    "for char in text:\n",
    "    print(char)\n",
    "    if char==\"d\":\n",
    "        break"
   ]
  },
  {
   "cell_type": "code",
   "execution_count": 179,
   "id": "6df87b94-301e-4664-8620-fe2684e55563",
   "metadata": {},
   "outputs": [
    {
     "name": "stdout",
     "output_type": "stream",
     "text": [
      "k\n",
      "n\n",
      "o\n",
      "w\n",
      "l\n",
      "e\n",
      "d\n"
     ]
    }
   ],
   "source": [
    "text='knowledge'\n",
    "\n",
    "i=0\n",
    "\n",
    "while i<=len(text):\n",
    "    print(text[i])   \n",
    "    if text[i]=='d':                \n",
    "        break\n",
    "    i+=1"
   ]
  },
  {
   "cell_type": "markdown",
   "id": "71c41f23-f906-4b3b-b08d-f7382ba414d7",
   "metadata": {},
   "source": [
    "#### List comprehension"
   ]
  },
  {
   "cell_type": "code",
   "execution_count": 180,
   "id": "af981798-f105-47a5-8cdf-cba2bd941b40",
   "metadata": {},
   "outputs": [
    {
     "name": "stdout",
     "output_type": "stream",
     "text": [
      "1\n",
      "4\n",
      "9\n",
      "16\n",
      "25\n",
      "36\n",
      "49\n",
      "64\n",
      "81\n",
      "100\n"
     ]
    }
   ],
   "source": [
    "### square of numbers from 1 to 10\n",
    "for i in range(1,11):\n",
    "    print(i*i)"
   ]
  },
  {
   "cell_type": "markdown",
   "id": "f9862253-13bc-4d29-94c6-1da86c4786c2",
   "metadata": {},
   "source": [
    "syntax-> output expression,for loop,condnal expression(optional)"
   ]
  },
  {
   "cell_type": "code",
   "execution_count": 182,
   "id": "460f7f73-a4c7-47d3-b3a6-af5abf0cd51f",
   "metadata": {},
   "outputs": [
    {
     "data": {
      "text/plain": [
       "[1, 4, 9, 16, 25, 36, 49, 64, 81, 100]"
      ]
     },
     "execution_count": 182,
     "metadata": {},
     "output_type": "execute_result"
    }
   ],
   "source": [
    "[i*i for i in range(1,11)]"
   ]
  },
  {
   "cell_type": "code",
   "execution_count": 183,
   "id": "c6fbc665-3f4b-46d5-b4bb-86da5f1cf986",
   "metadata": {},
   "outputs": [
    {
     "name": "stdout",
     "output_type": "stream",
     "text": [
      "14\n",
      "36\n",
      "42\n",
      "13.8\n",
      "10.4\n",
      "120\n"
     ]
    }
   ],
   "source": [
    "price=[7,18,21,6.9,5.2,60]\n",
    "for i in price:\n",
    "    print(i*2)"
   ]
  },
  {
   "cell_type": "code",
   "execution_count": 184,
   "id": "a27f68f0-fa76-4441-b536-eea9ed46c7a2",
   "metadata": {},
   "outputs": [
    {
     "data": {
      "text/plain": [
       "[14, 36, 42, 13.8, 10.4, 120]"
      ]
     },
     "execution_count": 184,
     "metadata": {},
     "output_type": "execute_result"
    }
   ],
   "source": [
    "[i*2 for i in price ]"
   ]
  },
  {
   "cell_type": "code",
   "execution_count": 185,
   "id": "589729ce-c731-4ff5-a561-6d38bb43e7a0",
   "metadata": {},
   "outputs": [
    {
     "data": {
      "text/plain": [
       "'NLP is little complicated but sounds interesting and it is the basic to understand generative ai'"
      ]
     },
     "execution_count": 185,
     "metadata": {},
     "output_type": "execute_result"
    }
   ],
   "source": [
    "sentence=\"NLP is little complicated but sounds interesting and it is the basic to understand generative ai\"\n",
    "sentence"
   ]
  },
  {
   "cell_type": "code",
   "execution_count": 186,
   "id": "f4de142e-8437-4fbd-9433-b69dedf2cd6d",
   "metadata": {},
   "outputs": [
    {
     "data": {
      "text/plain": [
       "['i',\n",
       " 'i',\n",
       " 'e',\n",
       " 'o',\n",
       " 'i',\n",
       " 'a',\n",
       " 'e',\n",
       " 'u',\n",
       " 'o',\n",
       " 'u',\n",
       " 'i',\n",
       " 'e',\n",
       " 'e',\n",
       " 'i',\n",
       " 'a',\n",
       " 'i',\n",
       " 'i',\n",
       " 'e',\n",
       " 'a',\n",
       " 'i',\n",
       " 'o',\n",
       " 'u',\n",
       " 'e',\n",
       " 'a',\n",
       " 'e',\n",
       " 'e',\n",
       " 'a',\n",
       " 'i',\n",
       " 'e',\n",
       " 'a',\n",
       " 'i']"
      ]
     },
     "execution_count": 186,
     "metadata": {},
     "output_type": "execute_result"
    }
   ],
   "source": [
    "[i for i in sentence if i in \"aeiouAEIOU\"]"
   ]
  },
  {
   "cell_type": "code",
   "execution_count": 187,
   "id": "7df9e346-dbcd-4ae6-baea-c400a1cbe9d5",
   "metadata": {},
   "outputs": [
    {
     "data": {
      "text/plain": [
       "[2, 4, 18]"
      ]
     },
     "execution_count": 187,
     "metadata": {},
     "output_type": "execute_result"
    }
   ],
   "source": [
    "numbers=[1,2,4,5,9,21,67,18,19]\n",
    "[i for i in numbers if i %2==0]"
   ]
  },
  {
   "cell_type": "code",
   "execution_count": 188,
   "id": "b5aa04db-9548-4d13-9050-5319225ec067",
   "metadata": {},
   "outputs": [
    {
     "data": {
      "text/plain": [
       "['apple', 'lemon']"
      ]
     },
     "execution_count": 188,
     "metadata": {},
     "output_type": "execute_result"
    }
   ],
   "source": [
    "list1=[\"apple\",\"Banana\",\"Grapes\",\"lemon\",\"Oranges\"]\n",
    "[i for i in list1 if len(i) <=5]"
   ]
  },
  {
   "cell_type": "code",
   "execution_count": 189,
   "id": "bdde0cad-45e0-4575-84a3-84018da5114a",
   "metadata": {},
   "outputs": [
    {
     "data": {
      "text/plain": [
       "[10, 20, 20, 15]"
      ]
     },
     "execution_count": 189,
     "metadata": {},
     "output_type": "execute_result"
    }
   ],
   "source": [
    "products=[\"apparel\",\"cosmetics\",\"detergents\",\"groceries\"]\n",
    "\n",
    "[10 if p==\"apparel\" else 15 if p==\"groceries\" else 20 for p in products]"
   ]
  },
  {
   "cell_type": "code",
   "execution_count": 190,
   "id": "eeadc860-cf66-4cb4-9e3a-25ca311a9aed",
   "metadata": {},
   "outputs": [
    {
     "data": {
      "text/plain": [
       "[15]"
      ]
     },
     "execution_count": 190,
     "metadata": {},
     "output_type": "execute_result"
    }
   ],
   "source": [
    "### greatest among two numbers \n",
    "a=10\n",
    "b=15\n",
    "[a if a>b else b]"
   ]
  },
  {
   "cell_type": "code",
   "execution_count": 194,
   "id": "0fe28893-00c9-40d9-a2bd-51d2c00701c9",
   "metadata": {},
   "outputs": [
    {
     "data": {
      "text/plain": [
       "[1600]"
      ]
     },
     "execution_count": 194,
     "metadata": {},
     "output_type": "execute_result"
    }
   ],
   "source": [
    "a=100\n",
    "b=24\n",
    "c=1600\n",
    "[a if a > b and a >c else b if b >a and b > c else c]"
   ]
  },
  {
   "cell_type": "code",
   "execution_count": null,
   "id": "cd0c346e-4a8d-4bd6-b6f1-200ddcc82b70",
   "metadata": {},
   "outputs": [],
   "source": []
  }
 ],
 "metadata": {
  "kernelspec": {
   "display_name": "Python 3 (ipykernel)",
   "language": "python",
   "name": "python3"
  },
  "language_info": {
   "codemirror_mode": {
    "name": "ipython",
    "version": 3
   },
   "file_extension": ".py",
   "mimetype": "text/x-python",
   "name": "python",
   "nbconvert_exporter": "python",
   "pygments_lexer": "ipython3",
   "version": "3.11.7"
  }
 },
 "nbformat": 4,
 "nbformat_minor": 5
}
