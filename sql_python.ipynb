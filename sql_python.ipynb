{
 "cells": [
  {
   "cell_type": "code",
   "execution_count": 2,
   "id": "0124f555-e06a-4e8e-8fa3-44ae553dfa22",
   "metadata": {},
   "outputs": [
    {
     "name": "stdout",
     "output_type": "stream",
     "text": [
      "Collecting mysql-connector-python\n",
      "  Downloading mysql_connector_python-9.1.0-cp311-cp311-win_amd64.whl.metadata (6.2 kB)\n",
      "Downloading mysql_connector_python-9.1.0-cp311-cp311-win_amd64.whl (16.1 MB)\n",
      "   ---------------------------------------- 0.0/16.1 MB ? eta -:--:--\n",
      "    --------------------------------------- 0.3/16.1 MB 5.2 MB/s eta 0:00:04\n",
      "   - -------------------------------------- 0.8/16.1 MB 8.4 MB/s eta 0:00:02\n",
      "   --- ------------------------------------ 1.3/16.1 MB 9.3 MB/s eta 0:00:02\n",
      "   ---- ----------------------------------- 1.9/16.1 MB 9.9 MB/s eta 0:00:02\n",
      "   ----- ---------------------------------- 2.4/16.1 MB 10.2 MB/s eta 0:00:02\n",
      "   ------- -------------------------------- 3.0/16.1 MB 10.6 MB/s eta 0:00:02\n",
      "   -------- ------------------------------- 3.5/16.1 MB 10.7 MB/s eta 0:00:02\n",
      "   -------- ------------------------------- 3.5/16.1 MB 10.7 MB/s eta 0:00:02\n",
      "   ---------- ----------------------------- 4.4/16.1 MB 10.4 MB/s eta 0:00:02\n",
      "   ------------ --------------------------- 4.9/16.1 MB 11.2 MB/s eta 0:00:01\n",
      "   ------------ --------------------------- 5.2/16.1 MB 10.0 MB/s eta 0:00:02\n",
      "   ------------- -------------------------- 5.2/16.1 MB 9.3 MB/s eta 0:00:02\n",
      "   -------------- ------------------------- 5.8/16.1 MB 9.5 MB/s eta 0:00:02\n",
      "   ---------------- ----------------------- 6.4/16.1 MB 10.0 MB/s eta 0:00:01\n",
      "   ----------------- ---------------------- 7.0/16.1 MB 9.9 MB/s eta 0:00:01\n",
      "   ------------------ --------------------- 7.6/16.1 MB 10.1 MB/s eta 0:00:01\n",
      "   -------------------- ------------------- 8.1/16.1 MB 10.4 MB/s eta 0:00:01\n",
      "   --------------------- ------------------ 8.7/16.1 MB 10.5 MB/s eta 0:00:01\n",
      "   ---------------------- ----------------- 9.2/16.1 MB 10.5 MB/s eta 0:00:01\n",
      "   ------------------------ --------------- 9.8/16.1 MB 10.6 MB/s eta 0:00:01\n",
      "   ------------------------- -------------- 10.3/16.1 MB 10.6 MB/s eta 0:00:01\n",
      "   --------------------------- ------------ 10.9/16.1 MB 10.9 MB/s eta 0:00:01\n",
      "   ---------------------------- ----------- 11.3/16.1 MB 10.9 MB/s eta 0:00:01\n",
      "   ----------------------------- ---------- 11.9/16.1 MB 10.9 MB/s eta 0:00:01\n",
      "   ------------------------------- -------- 12.5/16.1 MB 10.9 MB/s eta 0:00:01\n",
      "   -------------------------------- ------- 13.0/16.1 MB 10.9 MB/s eta 0:00:01\n",
      "   --------------------------------- ------ 13.6/16.1 MB 10.9 MB/s eta 0:00:01\n",
      "   ----------------------------------- ---- 14.2/16.1 MB 11.3 MB/s eta 0:00:01\n",
      "   ------------------------------------ --- 14.7/16.1 MB 11.1 MB/s eta 0:00:01\n",
      "   ------------------------------------- -- 15.2/16.1 MB 11.5 MB/s eta 0:00:01\n",
      "   ---------------------------------------  15.8/16.1 MB 12.1 MB/s eta 0:00:01\n",
      "   ---------------------------------------  16.1/16.1 MB 12.1 MB/s eta 0:00:01\n",
      "   ---------------------------------------  16.1/16.1 MB 12.1 MB/s eta 0:00:01\n",
      "   ---------------------------------------- 16.1/16.1 MB 10.9 MB/s eta 0:00:00\n",
      "Installing collected packages: mysql-connector-python\n",
      "Successfully installed mysql-connector-python-9.1.0\n",
      "Note: you may need to restart the kernel to use updated packages.\n"
     ]
    }
   ],
   "source": [
    "pip install mysql-connector-python\n"
   ]
  },
  {
   "cell_type": "code",
   "execution_count": 11,
   "id": "e6c1a617-6071-49aa-a7f0-4e3c478a543d",
   "metadata": {},
   "outputs": [],
   "source": [
    "import mysql.connector\n",
    "\n",
    "connection = mysql.connector.connect(\n",
    "    host=\"localhost\",\n",
    "    user=\"root\",\n",
    "    password=\"\"\n",
    ",\n",
    "    database=\"Syn\"\n",
    ")\n",
    "\n",
    "cursor = connection.cursor()\n"
   ]
  },
  {
   "cell_type": "code",
   "execution_count": 12,
   "id": "d7a41468-8a80-420e-b651-43bb7b379505",
   "metadata": {},
   "outputs": [],
   "source": [
    "connection.start_transaction()\n",
    "try:\n",
    "    cursor.execute(\"INSERT INTO mytable1 (name, age) VALUES (Bob', 30)\")\n",
    "    connection.commit()\n",
    "except:\n",
    "    connection.rollback()\n"
   ]
  },
  {
   "cell_type": "code",
   "execution_count": 15,
   "id": "32eb6eca-0c6c-4046-aa12-146d8bc926e7",
   "metadata": {},
   "outputs": [],
   "source": [
    "mycursor = connection.cursor()"
   ]
  },
  {
   "cell_type": "code",
   "execution_count": 16,
   "id": "0a374d43-e293-4aaf-91da-95a824f9da31",
   "metadata": {},
   "outputs": [],
   "source": [
    "mycursor.execute(\"SHOW TABLES\")"
   ]
  },
  {
   "cell_type": "code",
   "execution_count": 17,
   "id": "3fffb9c1-6de9-4307-a59e-fa85208e7d89",
   "metadata": {},
   "outputs": [
    {
     "name": "stdout",
     "output_type": "stream",
     "text": [
      "('mytable',)\n",
      "('mytable1',)\n"
     ]
    }
   ],
   "source": [
    "for x in mycursor:\n",
    "  print(x)"
   ]
  },
  {
   "cell_type": "code",
   "execution_count": 20,
   "id": "ee6b08c6-5332-4153-83d3-da269f2c4fcd",
   "metadata": {},
   "outputs": [
    {
     "name": "stdout",
     "output_type": "stream",
     "text": [
      "1 record inserted.\n"
     ]
    }
   ],
   "source": [
    "mycursor = connection.cursor()\n",
    "\n",
    "sql = \"INSERT INTO mytable1 (name, age) VALUES (%s, %s)\"\n",
    "val = (\"John\", 21)\n",
    "mycursor.execute(sql, val)\n",
    "\n",
    "connection.commit()\n",
    "\n",
    "print(mycursor.rowcount, \"record inserted.\")"
   ]
  },
  {
   "cell_type": "code",
   "execution_count": null,
   "id": "7dc9b606-6d26-46eb-b108-3fd187b6638b",
   "metadata": {},
   "outputs": [],
   "source": []
  }
 ],
 "metadata": {
  "kernelspec": {
   "display_name": "Python 3 (ipykernel)",
   "language": "python",
   "name": "python3"
  },
  "language_info": {
   "codemirror_mode": {
    "name": "ipython",
    "version": 3
   },
   "file_extension": ".py",
   "mimetype": "text/x-python",
   "name": "python",
   "nbconvert_exporter": "python",
   "pygments_lexer": "ipython3",
   "version": "3.11.7"
  }
 },
 "nbformat": 4,
 "nbformat_minor": 5
}
