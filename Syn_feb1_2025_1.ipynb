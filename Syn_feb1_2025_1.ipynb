{
 "cells": [
  {
   "cell_type": "markdown",
   "id": "d0598295-974b-4e39-abf6-0e62b4a93aae",
   "metadata": {},
   "source": [
    "My first program"
   ]
  },
  {
   "cell_type": "markdown",
   "id": "9b5ed379-5a57-4473-8c4e-e9edeff8c0a7",
   "metadata": {},
   "source": [
    "### My First Program"
   ]
  },
  {
   "cell_type": "markdown",
   "id": "441998a0-650d-4fb6-b62c-6133ae34671e",
   "metadata": {},
   "source": [
    "# scbghjghchhj"
   ]
  },
  {
   "cell_type": "code",
   "execution_count": 1,
   "id": "f7f4a1d5-0a32-4fc3-9a90-f61e135e0c8c",
   "metadata": {},
   "outputs": [
    {
     "name": "stdout",
     "output_type": "stream",
     "text": [
      "Hello World\n"
     ]
    }
   ],
   "source": [
    "print(\"Hello World\")"
   ]
  },
  {
   "cell_type": "markdown",
   "id": "d5928813-b934-4df4-9bfa-c6126e54a516",
   "metadata": {},
   "source": [
    "### Print ur name"
   ]
  },
  {
   "cell_type": "code",
   "execution_count": 3,
   "id": "2055da1d-13e3-4cb1-9ad3-8a1dc4f6a755",
   "metadata": {},
   "outputs": [
    {
     "name": "stdout",
     "output_type": "stream",
     "text": [
      "Latha\n"
     ]
    }
   ],
   "source": [
    "print(\"Latha\")"
   ]
  },
  {
   "cell_type": "code",
   "execution_count": 4,
   "id": "aba7fd6a-5bb0-4b77-9721-ddcac306714c",
   "metadata": {},
   "outputs": [
    {
     "ename": "NameError",
     "evalue": "name 'PRINT' is not defined",
     "output_type": "error",
     "traceback": [
      "\u001b[1;31m---------------------------------------------------------------------------\u001b[0m",
      "\u001b[1;31mNameError\u001b[0m                                 Traceback (most recent call last)",
      "Cell \u001b[1;32mIn[4], line 1\u001b[0m\n\u001b[1;32m----> 1\u001b[0m PRINT(\u001b[38;5;124m\"\u001b[39m\u001b[38;5;124mLatha\u001b[39m\u001b[38;5;124m\"\u001b[39m)\n",
      "\u001b[1;31mNameError\u001b[0m: name 'PRINT' is not defined"
     ]
    }
   ],
   "source": [
    "PRINT(\"Latha\")"
   ]
  },
  {
   "cell_type": "markdown",
   "id": "0e087b47-9441-4c31-b00e-dbed65a7a4d9",
   "metadata": {},
   "source": [
    "##### Python is case sensitive"
   ]
  },
  {
   "cell_type": "code",
   "execution_count": 5,
   "id": "3d54684a-b43f-45ee-822c-82c7128b2c21",
   "metadata": {},
   "outputs": [
    {
     "ename": "NameError",
     "evalue": "name 'Print' is not defined",
     "output_type": "error",
     "traceback": [
      "\u001b[1;31m---------------------------------------------------------------------------\u001b[0m",
      "\u001b[1;31mNameError\u001b[0m                                 Traceback (most recent call last)",
      "Cell \u001b[1;32mIn[5], line 1\u001b[0m\n\u001b[1;32m----> 1\u001b[0m Print(\u001b[38;5;124m\"\u001b[39m\u001b[38;5;124mLatha\u001b[39m\u001b[38;5;124m\"\u001b[39m)\n",
      "\u001b[1;31mNameError\u001b[0m: name 'Print' is not defined"
     ]
    }
   ],
   "source": [
    "Print(\"Latha\")"
   ]
  },
  {
   "cell_type": "code",
   "execution_count": 6,
   "id": "2506d336-2c79-4475-930f-45954da79107",
   "metadata": {},
   "outputs": [
    {
     "ename": "NameError",
     "evalue": "name 'latha' is not defined",
     "output_type": "error",
     "traceback": [
      "\u001b[1;31m---------------------------------------------------------------------------\u001b[0m",
      "\u001b[1;31mNameError\u001b[0m                                 Traceback (most recent call last)",
      "Cell \u001b[1;32mIn[6], line 1\u001b[0m\n\u001b[1;32m----> 1\u001b[0m \u001b[38;5;28mprint\u001b[39m(latha)\n",
      "\u001b[1;31mNameError\u001b[0m: name 'latha' is not defined"
     ]
    }
   ],
   "source": [
    "print(latha)"
   ]
  },
  {
   "cell_type": "code",
   "execution_count": 7,
   "id": "8bf5f4bf-82e7-4af1-bec7-6d99fe27ed6b",
   "metadata": {},
   "outputs": [
    {
     "name": "stdout",
     "output_type": "stream",
     "text": [
      "10\n"
     ]
    }
   ],
   "source": [
    "print(10)"
   ]
  },
  {
   "cell_type": "markdown",
   "id": "99b2f481-2242-442e-9c34-8d6868a6bf91",
   "metadata": {},
   "source": [
    "##### String(Text)-> \" \"  or '',numbers->not required"
   ]
  },
  {
   "cell_type": "code",
   "execution_count": 8,
   "id": "2f11615c-0e2e-4a95-a29c-1bdbc178eb86",
   "metadata": {},
   "outputs": [
    {
     "data": {
      "text/plain": [
       "100"
      ]
     },
     "execution_count": 8,
     "metadata": {},
     "output_type": "execute_result"
    }
   ],
   "source": [
    "x=100\n",
    "x"
   ]
  },
  {
   "cell_type": "code",
   "execution_count": 17,
   "id": "6df8cb95-668c-40f5-bd26-487dddaf584c",
   "metadata": {},
   "outputs": [
    {
     "name": "stdout",
     "output_type": "stream",
     "text": [
      "Latha\n",
      "Data Scientist\n"
     ]
    }
   ],
   "source": [
    "name=\"Latha\"\n",
    "designation=\"Data Scientist\"\n",
    "print(name)\n",
    "print(designation)"
   ]
  },
  {
   "cell_type": "markdown",
   "id": "f3ebb49a-b3cd-4573-b6b9-cb06fd31346e",
   "metadata": {},
   "source": [
    "#### Rules for naming the variables"
   ]
  },
  {
   "cell_type": "code",
   "execution_count": 18,
   "id": "32dfdde4-1877-4ac2-b58d-b948b65bf29b",
   "metadata": {},
   "outputs": [
    {
     "ename": "SyntaxError",
     "evalue": "invalid syntax (3533539850.py, line 1)",
     "output_type": "error",
     "traceback": [
      "\u001b[1;36m  Cell \u001b[1;32mIn[18], line 1\u001b[1;36m\u001b[0m\n\u001b[1;33m    first name=\"Prema\"\u001b[0m\n\u001b[1;37m          ^\u001b[0m\n\u001b[1;31mSyntaxError\u001b[0m\u001b[1;31m:\u001b[0m invalid syntax\n"
     ]
    }
   ],
   "source": [
    "first name=\"Prema\"\n",
    "first name"
   ]
  },
  {
   "cell_type": "markdown",
   "id": "a2fc7cd2-badd-4901-895d-1879d3b5ee0c",
   "metadata": {},
   "source": [
    "#####  Space is not allowed"
   ]
  },
  {
   "cell_type": "code",
   "execution_count": 19,
   "id": "38516b0b-19c4-44a8-8346-1809a842b21b",
   "metadata": {},
   "outputs": [
    {
     "data": {
      "text/plain": [
       "'Prema'"
      ]
     },
     "execution_count": 19,
     "metadata": {},
     "output_type": "execute_result"
    }
   ],
   "source": [
    "first_name=\"Prema\"\n",
    "first_name"
   ]
  },
  {
   "cell_type": "code",
   "execution_count": 21,
   "id": "ea90cc01-881d-4a72-b50a-cf0cec092305",
   "metadata": {},
   "outputs": [
    {
     "ename": "SyntaxError",
     "evalue": "cannot assign to expression here. Maybe you meant '==' instead of '='? (667044637.py, line 1)",
     "output_type": "error",
     "traceback": [
      "\u001b[1;36m  Cell \u001b[1;32mIn[21], line 1\u001b[1;36m\u001b[0m\n\u001b[1;33m    first+name=\"Prema\"\u001b[0m\n\u001b[1;37m    ^\u001b[0m\n\u001b[1;31mSyntaxError\u001b[0m\u001b[1;31m:\u001b[0m cannot assign to expression here. Maybe you meant '==' instead of '='?\n"
     ]
    }
   ],
   "source": [
    "first+name=\"Prema\"\n",
    "first+name"
   ]
  },
  {
   "cell_type": "markdown",
   "id": "31fe67c3-6be7-47a0-863b-a480f2b6a07c",
   "metadata": {},
   "source": [
    "##### The only allowed spl character is underscore (_)"
   ]
  },
  {
   "cell_type": "code",
   "execution_count": 22,
   "id": "293e91f5-0790-46ba-9ddd-54c0babffc2b",
   "metadata": {},
   "outputs": [
    {
     "data": {
      "text/plain": [
       "'Prema'"
      ]
     },
     "execution_count": 22,
     "metadata": {},
     "output_type": "execute_result"
    }
   ],
   "source": [
    "firstname=\"Prema\"\n",
    "firstname"
   ]
  },
  {
   "cell_type": "code",
   "execution_count": 23,
   "id": "bf9771f1-2562-4de6-90d4-39700d8d4fd9",
   "metadata": {},
   "outputs": [
    {
     "data": {
      "text/plain": [
       "'Prema'"
      ]
     },
     "execution_count": 23,
     "metadata": {},
     "output_type": "execute_result"
    }
   ],
   "source": [
    "Firstname=\"Prema\"\n",
    "Firstname"
   ]
  },
  {
   "cell_type": "markdown",
   "id": "f6a77eb8-f6c7-4f1a-a61a-773b926ddfaa",
   "metadata": {},
   "source": [
    "##### Variable names can start with A-Z,a-z or _"
   ]
  },
  {
   "cell_type": "code",
   "execution_count": 26,
   "id": "74bde763-aa20-4014-bb25-f93eabe9b282",
   "metadata": {},
   "outputs": [
    {
     "ename": "SyntaxError",
     "evalue": "invalid decimal literal (845849427.py, line 1)",
     "output_type": "error",
     "traceback": [
      "\u001b[1;36m  Cell \u001b[1;32mIn[26], line 1\u001b[1;36m\u001b[0m\n\u001b[1;33m    7name=\"Prema\"\u001b[0m\n\u001b[1;37m    ^\u001b[0m\n\u001b[1;31mSyntaxError\u001b[0m\u001b[1;31m:\u001b[0m invalid decimal literal\n"
     ]
    }
   ],
   "source": [
    "7name=\"Prema\"\n",
    "7name"
   ]
  },
  {
   "cell_type": "code",
   "execution_count": 27,
   "id": "dca1d247-1590-440a-84b5-8c327b3a681e",
   "metadata": {},
   "outputs": [
    {
     "data": {
      "text/plain": [
       "'Prema'"
      ]
     },
     "execution_count": 27,
     "metadata": {},
     "output_type": "execute_result"
    }
   ],
   "source": [
    "n2ame=\"Prema\"\n",
    "n2ame"
   ]
  },
  {
   "cell_type": "markdown",
   "id": "0b14354b-a04f-4ccc-8712-971de79a741c",
   "metadata": {},
   "source": [
    "##### Variable name should not start with a number"
   ]
  },
  {
   "cell_type": "markdown",
   "id": "227d26f0-1953-4179-b3e8-fcecb9d285ad",
   "metadata": {},
   "source": [
    "#### Data Types"
   ]
  },
  {
   "cell_type": "code",
   "execution_count": 28,
   "id": "b36b971b-3325-4786-b719-081b03fb4548",
   "metadata": {},
   "outputs": [
    {
     "data": {
      "text/plain": [
       "str"
      ]
     },
     "execution_count": 28,
     "metadata": {},
     "output_type": "execute_result"
    }
   ],
   "source": [
    "course=\"Python\"\n",
    "type(course)"
   ]
  },
  {
   "cell_type": "code",
   "execution_count": 30,
   "id": "4de85089-219d-4f37-a9eb-6ec801e311dc",
   "metadata": {},
   "outputs": [
    {
     "data": {
      "text/plain": [
       "int"
      ]
     },
     "execution_count": 30,
     "metadata": {},
     "output_type": "execute_result"
    }
   ],
   "source": [
    "x=1\n",
    "type(x)"
   ]
  },
  {
   "cell_type": "code",
   "execution_count": 31,
   "id": "7176207a-fea0-496d-a0a1-d9dcb3a93c2c",
   "metadata": {},
   "outputs": [
    {
     "data": {
      "text/plain": [
       "float"
      ]
     },
     "execution_count": 31,
     "metadata": {},
     "output_type": "execute_result"
    }
   ],
   "source": [
    "x=1.0\n",
    "type(x)"
   ]
  },
  {
   "cell_type": "code",
   "execution_count": 32,
   "id": "73614450-f604-4d24-a2a6-3492ca6e37a8",
   "metadata": {},
   "outputs": [
    {
     "data": {
      "text/plain": [
       "bool"
      ]
     },
     "execution_count": 32,
     "metadata": {},
     "output_type": "execute_result"
    }
   ],
   "source": [
    "z=True\n",
    "type(z)"
   ]
  },
  {
   "cell_type": "markdown",
   "id": "4f988e2b-fd05-40db-bcc8-6ac7880c6d59",
   "metadata": {},
   "source": [
    "##### Obj/string-> Text,number witout decimal-> int(integer),number with decimal point->float,\n",
    "##### True/False-> bool(Boolean)"
   ]
  },
  {
   "cell_type": "code",
   "execution_count": 33,
   "id": "56616543-f59f-4fd1-910d-77bccc53d3e7",
   "metadata": {},
   "outputs": [
    {
     "data": {
      "text/plain": [
       "6"
      ]
     },
     "execution_count": 33,
     "metadata": {},
     "output_type": "execute_result"
    }
   ],
   "source": [
    "4+2"
   ]
  },
  {
   "cell_type": "code",
   "execution_count": 34,
   "id": "f2679630-2c0d-4e5f-8daf-f7801346b203",
   "metadata": {},
   "outputs": [
    {
     "data": {
      "text/plain": [
       "6.4"
      ]
     },
     "execution_count": 34,
     "metadata": {},
     "output_type": "execute_result"
    }
   ],
   "source": [
    "4.0+2.4"
   ]
  },
  {
   "cell_type": "code",
   "execution_count": 35,
   "id": "9a02c58f-7a97-4aad-b6be-80859ab4f5ef",
   "metadata": {},
   "outputs": [
    {
     "data": {
      "text/plain": [
       "6.0"
      ]
     },
     "execution_count": 35,
     "metadata": {},
     "output_type": "execute_result"
    }
   ],
   "source": [
    "4+2.0"
   ]
  },
  {
   "cell_type": "code",
   "execution_count": 36,
   "id": "128db31c-222c-49dd-a3e3-f06ce15db42b",
   "metadata": {},
   "outputs": [
    {
     "data": {
      "text/plain": [
       "4.0"
      ]
     },
     "execution_count": 36,
     "metadata": {},
     "output_type": "execute_result"
    }
   ],
   "source": [
    "8/2"
   ]
  },
  {
   "cell_type": "markdown",
   "id": "6d0be4b8-3eec-48cf-827c-f126fd9313ad",
   "metadata": {},
   "source": [
    "##### Implicit Conversion-> Data type conversion is done without Programmer's intervention"
   ]
  },
  {
   "cell_type": "code",
   "execution_count": 39,
   "id": "76c35da0-c1e1-4d1e-a8b3-a60e34f5195d",
   "metadata": {},
   "outputs": [
    {
     "ename": "TypeError",
     "evalue": "unsupported operand type(s) for +: 'int' and 'str'",
     "output_type": "error",
     "traceback": [
      "\u001b[1;31m---------------------------------------------------------------------------\u001b[0m",
      "\u001b[1;31mTypeError\u001b[0m                                 Traceback (most recent call last)",
      "Cell \u001b[1;32mIn[39], line 3\u001b[0m\n\u001b[0;32m      1\u001b[0m price\u001b[38;5;241m=\u001b[39m\u001b[38;5;241m500\u001b[39m\n\u001b[0;32m      2\u001b[0m tax\u001b[38;5;241m=\u001b[39m\u001b[38;5;124m\"\u001b[39m\u001b[38;5;124m25\u001b[39m\u001b[38;5;124m\"\u001b[39m\n\u001b[1;32m----> 3\u001b[0m total\u001b[38;5;241m=\u001b[39mprice\u001b[38;5;241m+\u001b[39mtax\n\u001b[0;32m      4\u001b[0m total\n",
      "\u001b[1;31mTypeError\u001b[0m: unsupported operand type(s) for +: 'int' and 'str'"
     ]
    }
   ],
   "source": [
    "price=500\n",
    "tax=\"25\"\n",
    "total=price+tax\n",
    "total"
   ]
  },
  {
   "cell_type": "code",
   "execution_count": 40,
   "id": "7a0272bd-5fc6-43a3-8983-f829dec8c63f",
   "metadata": {},
   "outputs": [
    {
     "data": {
      "text/plain": [
       "525"
      ]
     },
     "execution_count": 40,
     "metadata": {},
     "output_type": "execute_result"
    }
   ],
   "source": [
    "total=price+int(tax)\n",
    "total"
   ]
  },
  {
   "cell_type": "code",
   "execution_count": 41,
   "id": "91a9c38b-70ef-4b94-aa18-d3a8919021f2",
   "metadata": {},
   "outputs": [
    {
     "data": {
      "text/plain": [
       "525.0"
      ]
     },
     "execution_count": 41,
     "metadata": {},
     "output_type": "execute_result"
    }
   ],
   "source": [
    "total=price+float(tax)\n",
    "total"
   ]
  },
  {
   "cell_type": "code",
   "execution_count": 42,
   "id": "8ca75ee6-e5de-4868-8eac-c7139f273b24",
   "metadata": {},
   "outputs": [
    {
     "data": {
      "text/plain": [
       "float"
      ]
     },
     "execution_count": 42,
     "metadata": {},
     "output_type": "execute_result"
    }
   ],
   "source": [
    "type(total)"
   ]
  },
  {
   "cell_type": "markdown",
   "id": "6254338d-271c-4921-ae7f-14e6ff0ed4a2",
   "metadata": {},
   "source": [
    "##### Explicit conversion- Programmer's intervention->change the data type from string to int or float\n"
   ]
  },
  {
   "cell_type": "code",
   "execution_count": 43,
   "id": "fb236c04-fd3c-4fa7-b209-67d4abac9bfa",
   "metadata": {},
   "outputs": [
    {
     "data": {
      "text/plain": [
       "28.0"
      ]
     },
     "execution_count": 43,
     "metadata": {},
     "output_type": "execute_result"
    }
   ],
   "source": [
    "unit_price=28\n",
    "float(unit_price)"
   ]
  },
  {
   "cell_type": "code",
   "execution_count": 44,
   "id": "44f8f325-d2a8-4ba6-bff6-529f8cbce104",
   "metadata": {},
   "outputs": [
    {
     "data": {
      "text/plain": [
       "'28'"
      ]
     },
     "execution_count": 44,
     "metadata": {},
     "output_type": "execute_result"
    }
   ],
   "source": [
    "str(unit_price)"
   ]
  },
  {
   "cell_type": "code",
   "execution_count": 45,
   "id": "00918451-8e85-43a5-9d48-e2d4a82a9bc2",
   "metadata": {},
   "outputs": [
    {
     "data": {
      "text/plain": [
       "True"
      ]
     },
     "execution_count": 45,
     "metadata": {},
     "output_type": "execute_result"
    }
   ],
   "source": [
    "bool(unit_price)"
   ]
  },
  {
   "cell_type": "code",
   "execution_count": 46,
   "id": "505d0071-b213-4ff8-bc44-b72cf2e4d6bf",
   "metadata": {},
   "outputs": [
    {
     "data": {
      "text/plain": [
       "False"
      ]
     },
     "execution_count": 46,
     "metadata": {},
     "output_type": "execute_result"
    }
   ],
   "source": [
    "unit=0\n",
    "bool(unit)"
   ]
  },
  {
   "cell_type": "code",
   "execution_count": null,
   "id": "e70c2370-f7a6-4670-8575-e0ae30e6b84b",
   "metadata": {},
   "outputs": [],
   "source": [
    "unit_price=29.7\n",
    "### convert into int,str,bool (No challenges)\n",
    "\n",
    "course=\"python\"\n",
    "### convert into int,float,bool() (Str cannot be conv into int or float)\n",
    "\n",
    "x=True\n",
    "### convert into int,str,float (All are working)"
   ]
  },
  {
   "cell_type": "code",
   "execution_count": 47,
   "id": "02a559bb-e8fc-4e21-a863-9a123bc99172",
   "metadata": {},
   "outputs": [
    {
     "data": {
      "text/plain": [
       "True"
      ]
     },
     "execution_count": 47,
     "metadata": {},
     "output_type": "execute_result"
    }
   ],
   "source": [
    "course=\"python\"\n",
    "bool(course)"
   ]
  },
  {
   "cell_type": "markdown",
   "id": "9da672c3-be68-4202-b8cd-b0e60dbb20fb",
   "metadata": {},
   "source": [
    "#### Operators in Python"
   ]
  },
  {
   "cell_type": "markdown",
   "id": "a513070a-5394-4054-ad48-22e22c46f52e",
   "metadata": {},
   "source": [
    "##### Arithmetic Operators"
   ]
  },
  {
   "cell_type": "code",
   "execution_count": 48,
   "id": "629e1c60-2191-43c9-8501-271666d82611",
   "metadata": {},
   "outputs": [
    {
     "data": {
      "text/plain": [
       "15"
      ]
     },
     "execution_count": 48,
     "metadata": {},
     "output_type": "execute_result"
    }
   ],
   "source": [
    "### Addition\n",
    "x=10\n",
    "y=5\n",
    "z=x+y\n",
    "z"
   ]
  },
  {
   "cell_type": "code",
   "execution_count": 49,
   "id": "3d063f25-dde1-4405-b9b4-27f4000e87dd",
   "metadata": {},
   "outputs": [
    {
     "data": {
      "text/plain": [
       "5"
      ]
     },
     "execution_count": 49,
     "metadata": {},
     "output_type": "execute_result"
    }
   ],
   "source": [
    "### Subtraction\n",
    "\n",
    "x=10\n",
    "y=5\n",
    "z=x-y\n",
    "z"
   ]
  },
  {
   "cell_type": "code",
   "execution_count": 50,
   "id": "896068c0-71d2-4e99-a6d2-63dae709dc6e",
   "metadata": {},
   "outputs": [
    {
     "data": {
      "text/plain": [
       "50"
      ]
     },
     "execution_count": 50,
     "metadata": {},
     "output_type": "execute_result"
    }
   ],
   "source": [
    "### Multiplication\n",
    "\n",
    "x=10\n",
    "y=5\n",
    "z=x*y\n",
    "z"
   ]
  },
  {
   "cell_type": "code",
   "execution_count": 51,
   "id": "4b65ddcb-093d-4c33-ad12-ddaff34e6d07",
   "metadata": {},
   "outputs": [
    {
     "data": {
      "text/plain": [
       "2.0"
      ]
     },
     "execution_count": 51,
     "metadata": {},
     "output_type": "execute_result"
    }
   ],
   "source": [
    "### Division\n",
    "\n",
    "x=10\n",
    "y=5\n",
    "z=x/y\n",
    "z"
   ]
  },
  {
   "cell_type": "code",
   "execution_count": 53,
   "id": "afe99b30-54c5-4cdf-ba31-d35dd1cd0351",
   "metadata": {},
   "outputs": [
    {
     "data": {
      "text/plain": [
       "32"
      ]
     },
     "execution_count": 53,
     "metadata": {},
     "output_type": "execute_result"
    }
   ],
   "source": [
    "2**5"
   ]
  },
  {
   "cell_type": "markdown",
   "id": "c8747ec7-dde0-4f2e-bb5c-61c221c80007",
   "metadata": {},
   "source": [
    "##### Modulus (%)-> a % b-> a> b ->Returns Remainder else a"
   ]
  },
  {
   "cell_type": "code",
   "execution_count": 63,
   "id": "3c9ddaa2-0b0f-4bb7-ae63-0318ac9907b1",
   "metadata": {},
   "outputs": [
    {
     "data": {
      "text/plain": [
       "1"
      ]
     },
     "execution_count": 63,
     "metadata": {},
     "output_type": "execute_result"
    }
   ],
   "source": [
    "5 % 2"
   ]
  },
  {
   "cell_type": "code",
   "execution_count": 55,
   "id": "3f9cfc89-711c-4f02-a84d-a7cd878a550e",
   "metadata": {},
   "outputs": [
    {
     "data": {
      "text/plain": [
       "2"
      ]
     },
     "execution_count": 55,
     "metadata": {},
     "output_type": "execute_result"
    }
   ],
   "source": [
    "5 % 3"
   ]
  },
  {
   "cell_type": "code",
   "execution_count": 56,
   "id": "810f5906-5f9b-4d24-8ca2-45f6e277af4a",
   "metadata": {},
   "outputs": [
    {
     "data": {
      "text/plain": [
       "1"
      ]
     },
     "execution_count": 56,
     "metadata": {},
     "output_type": "execute_result"
    }
   ],
   "source": [
    "5 % 4"
   ]
  },
  {
   "cell_type": "code",
   "execution_count": 57,
   "id": "b813ab29-5afc-4916-a50b-4df7e2924de9",
   "metadata": {},
   "outputs": [
    {
     "data": {
      "text/plain": [
       "0"
      ]
     },
     "execution_count": 57,
     "metadata": {},
     "output_type": "execute_result"
    }
   ],
   "source": [
    "5 % 5"
   ]
  },
  {
   "cell_type": "code",
   "execution_count": 58,
   "id": "0d78b9ea-067b-4f2d-b668-90b32051213e",
   "metadata": {},
   "outputs": [
    {
     "data": {
      "text/plain": [
       "2"
      ]
     },
     "execution_count": 58,
     "metadata": {},
     "output_type": "execute_result"
    }
   ],
   "source": [
    "2 % 5"
   ]
  },
  {
   "cell_type": "code",
   "execution_count": 59,
   "id": "861cef37-466e-44d4-bbcf-0577c42d5896",
   "metadata": {},
   "outputs": [
    {
     "data": {
      "text/plain": [
       "3"
      ]
     },
     "execution_count": 59,
     "metadata": {},
     "output_type": "execute_result"
    }
   ],
   "source": [
    "3 % 5"
   ]
  },
  {
   "cell_type": "code",
   "execution_count": 60,
   "id": "588834a0-4677-4a57-9729-2fb1a924a918",
   "metadata": {},
   "outputs": [
    {
     "data": {
      "text/plain": [
       "4"
      ]
     },
     "execution_count": 60,
     "metadata": {},
     "output_type": "execute_result"
    }
   ],
   "source": [
    "4 % 5"
   ]
  },
  {
   "cell_type": "code",
   "execution_count": 61,
   "id": "44bc11be-e683-43ea-8c80-c5fc3fa0ea3a",
   "metadata": {},
   "outputs": [
    {
     "data": {
      "text/plain": [
       "0"
      ]
     },
     "execution_count": 61,
     "metadata": {},
     "output_type": "execute_result"
    }
   ],
   "source": [
    "5 % 5"
   ]
  },
  {
   "cell_type": "code",
   "execution_count": null,
   "id": "19411cba-9f99-4581-8fe5-e3c00fde7524",
   "metadata": {},
   "outputs": [],
   "source": [
    "##### Floor Division // -> if a//b it returns quotient if a >b else 0"
   ]
  },
  {
   "cell_type": "code",
   "execution_count": 64,
   "id": "e88ff042-14aa-4293-94ec-affa46161073",
   "metadata": {},
   "outputs": [
    {
     "data": {
      "text/plain": [
       "2"
      ]
     },
     "execution_count": 64,
     "metadata": {},
     "output_type": "execute_result"
    }
   ],
   "source": [
    "5 // 2"
   ]
  },
  {
   "cell_type": "code",
   "execution_count": 65,
   "id": "fc54fdbc-16b5-4f03-9c4e-be45613ef401",
   "metadata": {},
   "outputs": [
    {
     "data": {
      "text/plain": [
       "1"
      ]
     },
     "execution_count": 65,
     "metadata": {},
     "output_type": "execute_result"
    }
   ],
   "source": [
    "5 // 3"
   ]
  },
  {
   "cell_type": "code",
   "execution_count": 66,
   "id": "c5a24835-9698-4659-a96b-399e5957ccb2",
   "metadata": {},
   "outputs": [
    {
     "data": {
      "text/plain": [
       "1"
      ]
     },
     "execution_count": 66,
     "metadata": {},
     "output_type": "execute_result"
    }
   ],
   "source": [
    "5 // 4"
   ]
  },
  {
   "cell_type": "code",
   "execution_count": 67,
   "id": "26256afc-c74b-4d8d-8078-6df6e55c1374",
   "metadata": {},
   "outputs": [
    {
     "data": {
      "text/plain": [
       "1"
      ]
     },
     "execution_count": 67,
     "metadata": {},
     "output_type": "execute_result"
    }
   ],
   "source": [
    "5 //5"
   ]
  },
  {
   "cell_type": "code",
   "execution_count": 68,
   "id": "74dfb857-4c96-455c-911b-1788098b44ed",
   "metadata": {},
   "outputs": [
    {
     "data": {
      "text/plain": [
       "5"
      ]
     },
     "execution_count": 68,
     "metadata": {},
     "output_type": "execute_result"
    }
   ],
   "source": [
    "10 // 2"
   ]
  },
  {
   "cell_type": "code",
   "execution_count": 69,
   "id": "1694ef61-d482-4f9e-a35e-c6b2ccc527e7",
   "metadata": {},
   "outputs": [
    {
     "data": {
      "text/plain": [
       "7"
      ]
     },
     "execution_count": 69,
     "metadata": {},
     "output_type": "execute_result"
    }
   ],
   "source": [
    "15 // 2"
   ]
  },
  {
   "cell_type": "code",
   "execution_count": 70,
   "id": "387e52e5-d21c-4464-b4f9-df809e6cdda7",
   "metadata": {},
   "outputs": [
    {
     "data": {
      "text/plain": [
       "0"
      ]
     },
     "execution_count": 70,
     "metadata": {},
     "output_type": "execute_result"
    }
   ],
   "source": [
    "2 //15"
   ]
  },
  {
   "cell_type": "code",
   "execution_count": 71,
   "id": "291b3910-1cbe-44f8-8478-f069559f3016",
   "metadata": {},
   "outputs": [
    {
     "data": {
      "text/plain": [
       "0"
      ]
     },
     "execution_count": 71,
     "metadata": {},
     "output_type": "execute_result"
    }
   ],
   "source": [
    "5 // 10"
   ]
  },
  {
   "cell_type": "code",
   "execution_count": 72,
   "id": "6509dc09-f93c-4d08-ac96-ed650e9fac2f",
   "metadata": {},
   "outputs": [
    {
     "data": {
      "text/plain": [
       "0"
      ]
     },
     "execution_count": 72,
     "metadata": {},
     "output_type": "execute_result"
    }
   ],
   "source": [
    "11//12"
   ]
  },
  {
   "cell_type": "markdown",
   "id": "d912fb9b-f940-4871-ac34-2324d973f6c2",
   "metadata": {},
   "source": [
    "#### Relational Operator"
   ]
  },
  {
   "cell_type": "code",
   "execution_count": 73,
   "id": "79222cd0-6d65-46c9-ba72-f8c68c450672",
   "metadata": {},
   "outputs": [],
   "source": [
    "a=10\n",
    "b=5"
   ]
  },
  {
   "cell_type": "code",
   "execution_count": 74,
   "id": "e5dde2bd-c3c1-4f8e-bab5-5fe9f4a3a774",
   "metadata": {},
   "outputs": [
    {
     "data": {
      "text/plain": [
       "False"
      ]
     },
     "execution_count": 74,
     "metadata": {},
     "output_type": "execute_result"
    }
   ],
   "source": [
    "a==b"
   ]
  },
  {
   "cell_type": "code",
   "execution_count": 75,
   "id": "4536b145-6230-41a3-8259-b6241c3cb5df",
   "metadata": {},
   "outputs": [
    {
     "data": {
      "text/plain": [
       "True"
      ]
     },
     "execution_count": 75,
     "metadata": {},
     "output_type": "execute_result"
    }
   ],
   "source": [
    "a!=b"
   ]
  },
  {
   "cell_type": "code",
   "execution_count": 76,
   "id": "b20dae5f-1ba3-4a88-a12d-4a96973cee40",
   "metadata": {},
   "outputs": [
    {
     "data": {
      "text/plain": [
       "True"
      ]
     },
     "execution_count": 76,
     "metadata": {},
     "output_type": "execute_result"
    }
   ],
   "source": [
    "a>b"
   ]
  },
  {
   "cell_type": "code",
   "execution_count": 77,
   "id": "47598eb1-7407-4406-8b6d-3f97fd294ab4",
   "metadata": {},
   "outputs": [
    {
     "data": {
      "text/plain": [
       "False"
      ]
     },
     "execution_count": 77,
     "metadata": {},
     "output_type": "execute_result"
    }
   ],
   "source": [
    "a<b"
   ]
  },
  {
   "cell_type": "code",
   "execution_count": 78,
   "id": "87750403-9690-45ca-8870-9a967a5090f8",
   "metadata": {},
   "outputs": [
    {
     "data": {
      "text/plain": [
       "True"
      ]
     },
     "execution_count": 78,
     "metadata": {},
     "output_type": "execute_result"
    }
   ],
   "source": [
    "a>=b"
   ]
  },
  {
   "cell_type": "code",
   "execution_count": 79,
   "id": "bc5c2d5e-a38a-42ed-a03b-58a6df1da728",
   "metadata": {},
   "outputs": [
    {
     "data": {
      "text/plain": [
       "False"
      ]
     },
     "execution_count": 79,
     "metadata": {},
     "output_type": "execute_result"
    }
   ],
   "source": [
    "a<=b"
   ]
  },
  {
   "cell_type": "markdown",
   "id": "bb169e45-fa23-475a-9f2c-fe802e88c48c",
   "metadata": {},
   "source": [
    "#### Logical Operator"
   ]
  },
  {
   "cell_type": "code",
   "execution_count": 80,
   "id": "dc62bbc2-bb5a-4d1e-8398-f16cfcd8c17a",
   "metadata": {},
   "outputs": [],
   "source": [
    "is_student= True\n",
    "in_college = True\n",
    "in_school= False\n",
    "is_male= False"
   ]
  },
  {
   "cell_type": "code",
   "execution_count": 81,
   "id": "c965889a-012b-4758-887d-7462aedc2664",
   "metadata": {},
   "outputs": [
    {
     "data": {
      "text/plain": [
       "False"
      ]
     },
     "execution_count": 81,
     "metadata": {},
     "output_type": "execute_result"
    }
   ],
   "source": [
    "is_student and in_school"
   ]
  },
  {
   "cell_type": "code",
   "execution_count": 82,
   "id": "7e0b07bc-6abc-440b-89b3-0e9507165613",
   "metadata": {},
   "outputs": [
    {
     "data": {
      "text/plain": [
       "True"
      ]
     },
     "execution_count": 82,
     "metadata": {},
     "output_type": "execute_result"
    }
   ],
   "source": [
    "is_student and in_college"
   ]
  },
  {
   "cell_type": "code",
   "execution_count": 83,
   "id": "33c3cf9e-3cff-4965-9685-d6a0330b1414",
   "metadata": {},
   "outputs": [
    {
     "data": {
      "text/plain": [
       "True"
      ]
     },
     "execution_count": 83,
     "metadata": {},
     "output_type": "execute_result"
    }
   ],
   "source": [
    "is_student or in_school"
   ]
  },
  {
   "cell_type": "code",
   "execution_count": 84,
   "id": "e3b5ef68-527f-4ec2-9bde-7d38c08de7a8",
   "metadata": {},
   "outputs": [
    {
     "data": {
      "text/plain": [
       "False"
      ]
     },
     "execution_count": 84,
     "metadata": {},
     "output_type": "execute_result"
    }
   ],
   "source": [
    "in_school or is_male"
   ]
  },
  {
   "cell_type": "code",
   "execution_count": 85,
   "id": "afc647e1-9650-4ace-8c42-cfd34ef16ba3",
   "metadata": {},
   "outputs": [
    {
     "data": {
      "text/plain": [
       "True"
      ]
     },
     "execution_count": 85,
     "metadata": {},
     "output_type": "execute_result"
    }
   ],
   "source": [
    "not(in_school)"
   ]
  },
  {
   "cell_type": "code",
   "execution_count": 86,
   "id": "908b563a-d9de-4415-b347-141e03fadaff",
   "metadata": {},
   "outputs": [
    {
     "data": {
      "text/plain": [
       "False"
      ]
     },
     "execution_count": 86,
     "metadata": {},
     "output_type": "execute_result"
    }
   ],
   "source": [
    "not(is_student)"
   ]
  },
  {
   "cell_type": "markdown",
   "id": "9f4b1e42-8f81-4009-ad73-763804aded46",
   "metadata": {},
   "source": [
    "#### Assignment Operators"
   ]
  },
  {
   "cell_type": "code",
   "execution_count": 87,
   "id": "604a90a1-da46-4c0a-b212-6b9b50adb130",
   "metadata": {},
   "outputs": [],
   "source": [
    "x=5"
   ]
  },
  {
   "cell_type": "code",
   "execution_count": 88,
   "id": "9b5cd83b-c581-4dfc-8d01-85f5266a9c4e",
   "metadata": {},
   "outputs": [
    {
     "data": {
      "text/plain": [
       "8"
      ]
     },
     "execution_count": 88,
     "metadata": {},
     "output_type": "execute_result"
    }
   ],
   "source": [
    "x=x+3\n",
    "x"
   ]
  },
  {
   "cell_type": "code",
   "execution_count": 89,
   "id": "5fb96acd-aa82-4a1f-8f76-c90141758869",
   "metadata": {},
   "outputs": [],
   "source": [
    "y=5\n",
    "y+=3   # y=y+3"
   ]
  },
  {
   "cell_type": "code",
   "execution_count": 90,
   "id": "dc068cfc-7b8f-46ee-885a-fbfe9a88b65c",
   "metadata": {},
   "outputs": [
    {
     "data": {
      "text/plain": [
       "8"
      ]
     },
     "execution_count": 90,
     "metadata": {},
     "output_type": "execute_result"
    }
   ],
   "source": [
    "y"
   ]
  },
  {
   "cell_type": "code",
   "execution_count": 91,
   "id": "9ed02b8c-20e8-41b3-a6f9-68a568e63dc9",
   "metadata": {},
   "outputs": [],
   "source": [
    "y-=3  # y=y-3"
   ]
  },
  {
   "cell_type": "code",
   "execution_count": 92,
   "id": "d3b06214-f3a0-4cfc-b257-0ab47c1db713",
   "metadata": {},
   "outputs": [
    {
     "data": {
      "text/plain": [
       "5"
      ]
     },
     "execution_count": 92,
     "metadata": {},
     "output_type": "execute_result"
    }
   ],
   "source": [
    "y"
   ]
  },
  {
   "cell_type": "code",
   "execution_count": 93,
   "id": "2a054471-e11d-481f-bf10-59dd4b451f3f",
   "metadata": {},
   "outputs": [],
   "source": [
    "x=10\n",
    "x//=3"
   ]
  },
  {
   "cell_type": "code",
   "execution_count": 94,
   "id": "dce3f2c9-b9c0-400c-bfbe-6785cea93f60",
   "metadata": {},
   "outputs": [
    {
     "data": {
      "text/plain": [
       "3"
      ]
     },
     "execution_count": 94,
     "metadata": {},
     "output_type": "execute_result"
    }
   ],
   "source": [
    "x"
   ]
  },
  {
   "cell_type": "markdown",
   "id": "a50da1cb-5321-4102-9305-e7c4e7a9f176",
   "metadata": {},
   "source": [
    "#### Membership operators"
   ]
  },
  {
   "cell_type": "code",
   "execution_count": 95,
   "id": "0e3a8d04-656e-4a8d-b4e2-c8cfb5980500",
   "metadata": {},
   "outputs": [
    {
     "data": {
      "text/plain": [
       "True"
      ]
     },
     "execution_count": 95,
     "metadata": {},
     "output_type": "execute_result"
    }
   ],
   "source": [
    "vowels=\"aeiou\"\n",
    "\"u\" in vowels"
   ]
  },
  {
   "cell_type": "code",
   "execution_count": 96,
   "id": "60353754-7e01-4496-b088-e8445628f54d",
   "metadata": {},
   "outputs": [
    {
     "data": {
      "text/plain": [
       "False"
      ]
     },
     "execution_count": 96,
     "metadata": {},
     "output_type": "execute_result"
    }
   ],
   "source": [
    "\"l\" in vowels\n"
   ]
  },
  {
   "cell_type": "code",
   "execution_count": 97,
   "id": "8a8e7131-3ed6-4baf-8a4c-babbcbbc2840",
   "metadata": {},
   "outputs": [
    {
     "data": {
      "text/plain": [
       "False"
      ]
     },
     "execution_count": 97,
     "metadata": {},
     "output_type": "execute_result"
    }
   ],
   "source": [
    "\"u\" not in vowels"
   ]
  },
  {
   "cell_type": "code",
   "execution_count": 98,
   "id": "45140bf1-a73d-4085-bc03-4614f8f75b58",
   "metadata": {},
   "outputs": [
    {
     "data": {
      "text/plain": [
       "True"
      ]
     },
     "execution_count": 98,
     "metadata": {},
     "output_type": "execute_result"
    }
   ],
   "source": [
    "\"l\" not in vowels"
   ]
  },
  {
   "cell_type": "markdown",
   "id": "5d663665-413a-417a-a1ee-74a51404f543",
   "metadata": {},
   "source": [
    "#### Bitwise Operatos"
   ]
  },
  {
   "cell_type": "code",
   "execution_count": 99,
   "id": "6e2e1709-e643-4ff8-9eff-cf00745cb82c",
   "metadata": {},
   "outputs": [
    {
     "data": {
      "text/plain": [
       "1"
      ]
     },
     "execution_count": 99,
     "metadata": {},
     "output_type": "execute_result"
    }
   ],
   "source": [
    "a=5\n",
    "b=3\n",
    "a&b"
   ]
  },
  {
   "cell_type": "code",
   "execution_count": 101,
   "id": "899122c1-fcbc-4c23-8eee-cac0a8cfa6e5",
   "metadata": {},
   "outputs": [
    {
     "data": {
      "text/plain": [
       "8"
      ]
     },
     "execution_count": 101,
     "metadata": {},
     "output_type": "execute_result"
    }
   ],
   "source": [
    "a=10\n",
    "b=8\n",
    "a & b"
   ]
  },
  {
   "cell_type": "code",
   "execution_count": 102,
   "id": "6384238b-cf05-49de-adaa-4ab0864f1381",
   "metadata": {},
   "outputs": [
    {
     "data": {
      "text/plain": [
       "0"
      ]
     },
     "execution_count": 102,
     "metadata": {},
     "output_type": "execute_result"
    }
   ],
   "source": [
    "a=12\n",
    "b=3\n",
    "a&b"
   ]
  },
  {
   "cell_type": "code",
   "execution_count": 103,
   "id": "1569684e-9060-4c90-8eb1-337cdcafa853",
   "metadata": {},
   "outputs": [
    {
     "data": {
      "text/plain": [
       "12"
      ]
     },
     "execution_count": 103,
     "metadata": {},
     "output_type": "execute_result"
    }
   ],
   "source": [
    "a=12\n",
    "b=13\n",
    "a&b"
   ]
  },
  {
   "cell_type": "code",
   "execution_count": 104,
   "id": "5ee05a08-174b-4232-abfd-138302142206",
   "metadata": {},
   "outputs": [
    {
     "data": {
      "text/plain": [
       "15"
      ]
     },
     "execution_count": 104,
     "metadata": {},
     "output_type": "execute_result"
    }
   ],
   "source": [
    "a=10\n",
    "b=5\n",
    "a | b"
   ]
  },
  {
   "cell_type": "markdown",
   "id": "6870994a-bee4-46cb-a6c9-40004faeca24",
   "metadata": {},
   "source": [
    "#### Strings"
   ]
  },
  {
   "cell_type": "code",
   "execution_count": 105,
   "id": "1c05bf11-b16f-48c6-bdb6-0e256527390c",
   "metadata": {},
   "outputs": [
    {
     "data": {
      "text/plain": [
       "str"
      ]
     },
     "execution_count": 105,
     "metadata": {},
     "output_type": "execute_result"
    }
   ],
   "source": [
    "course=\"Python\"\n",
    "type(course)"
   ]
  },
  {
   "cell_type": "code",
   "execution_count": 107,
   "id": "b4d0c497-195e-4acc-9c11-903d5eba8dbd",
   "metadata": {},
   "outputs": [
    {
     "name": "stdout",
     "output_type": "stream",
     "text": [
      "Hello Python\n"
     ]
    },
    {
     "data": {
      "text/plain": [
       "str"
      ]
     },
     "execution_count": 107,
     "metadata": {},
     "output_type": "execute_result"
    }
   ],
   "source": [
    "str1=\"Hello Python\"\n",
    "print(str1)\n",
    "type(str1)"
   ]
  },
  {
   "cell_type": "code",
   "execution_count": 108,
   "id": "0a45d681-b4a7-4a51-9c8f-3253ad7169a9",
   "metadata": {},
   "outputs": [
    {
     "name": "stdout",
     "output_type": "stream",
     "text": [
      "Hello Python\n"
     ]
    },
    {
     "data": {
      "text/plain": [
       "str"
      ]
     },
     "execution_count": 108,
     "metadata": {},
     "output_type": "execute_result"
    }
   ],
   "source": [
    "str1='Hello Python'\n",
    "print(str1)\n",
    "type(str1)"
   ]
  },
  {
   "cell_type": "code",
   "execution_count": 109,
   "id": "be2631bf-5531-4484-8a69-b614726f5574",
   "metadata": {},
   "outputs": [
    {
     "ename": "SyntaxError",
     "evalue": "unterminated string literal (detected at line 1) (3987544629.py, line 1)",
     "output_type": "error",
     "traceback": [
      "\u001b[1;36m  Cell \u001b[1;32mIn[109], line 1\u001b[1;36m\u001b[0m\n\u001b[1;33m    str1='Hello Python\"\u001b[0m\n\u001b[1;37m         ^\u001b[0m\n\u001b[1;31mSyntaxError\u001b[0m\u001b[1;31m:\u001b[0m unterminated string literal (detected at line 1)\n"
     ]
    }
   ],
   "source": [
    "str1='Hello Python\"\n",
    "print(str1)\n",
    "type(str1)"
   ]
  },
  {
   "cell_type": "code",
   "execution_count": 110,
   "id": "84d1a796-a7f3-48fe-ad56-ccc67e309c77",
   "metadata": {},
   "outputs": [
    {
     "data": {
      "text/plain": [
       "\"DeepSeek's hiring preferences target technical abilities rather than work experience, resulting in most new hires being either recent university graduates or developers whose AI careers are less established.[22][5] Likewise, the company recruits individuals without any computer science background to help its technology understand other topics and knowledge areas, including being able to generate poetry and perform well on the notoriously difficult\""
      ]
     },
     "execution_count": 110,
     "metadata": {},
     "output_type": "execute_result"
    }
   ],
   "source": [
    "str2=\"DeepSeek's hiring preferences target technical abilities rather than work experience, resulting in most new hires being either recent university graduates or developers whose AI careers are less established.[22][5] Likewise, the company recruits individuals without any computer science background to help its technology understand other topics and knowledge areas, including being able to generate poetry and perform well on the notoriously difficult\"\n",
    "str2"
   ]
  },
  {
   "cell_type": "code",
   "execution_count": 112,
   "id": "36cde9a2-38d2-4b04-8aee-fcc5093d79de",
   "metadata": {},
   "outputs": [],
   "source": [
    "str3=\"\"\"High-Flyer/DeepSeek has built at least two computing clusters, Fire-Flyer (萤火一号) and Fire-Flyer 2 (萤火二号). Fire-Flyer began construction in 2019 and finished in 2020, at a cost of 200 million yuan. It contained 1100 GPUs interconnected at a rate of 200 Gbps. It was \"retired\" after 1.5 years in operation. Fire-Flyer 2 began construction in 2021 with a budget of 1 billion yuan.[16] It was reported that in 2022, Fire-Flyer 2 capacity had been utilized at over 96%, totaling 56.74 million GPU hours. Of those GPU hours, 27% was used to support scientific computing outside the company.[16]\n",
    "\n",
    "Fire-Flyer 2 consisted of co-designed software and hardware architecture. On the hardware side, there are more GPUs with 200 Gbps interconnects. The cluster is divided into two \"zones\", and the platform supports cross-zone tasks. The network topology was two fat trees, chosen for its high bisection bandwidth. On the software side, there are[26][16]\n",
    "\n",
    "3FS (Fire-Flyer File System): A distributed parallel file system. It was specifically designed for asynchronous random reads from a dataset, and uses Direct I/O and RDMA Read. In contrast to standard Buffered I/O, Direct I/O does not cache data. Caching is useless for this case, since each data read is random, and would not be reused.[27]\n",
    "hfreduce: Library for asynchronous communication, originally designed to replace Nvidia Collective Communication Library (NCCL).[28] It was mainly used for allreduce, especially of gradients during backpropagation. It is asynchronously run on the CPU to avoid blocking kernels on the GPU.[26] It uses two-tree broadcast like NCCL.[28]\n",
    "hfai.nn: Software library of commonly used operators in neural network training, similar to torch.nn in PyTorch.\n",
    "HaiScale Distributed Data Parallel (DDP): Parallel training library that implements various forms of parallelism in deep learning such as Data Parallelism (DP), Pipeline Parallelism (PP), Tensor Parallelism (TP), Experts Parallelism (EP), Fully Sharded Data Parallel (FSDP) and Zero Redundancy Optimizer (ZeRO). It is similar to PyTorch DDP, which uses NCCL on the backend.\n",
    "HAI Platform: Various applications such as task scheduling, fault handling, and disaster recovery.[29]\n",
    "During 2022, Fire-Flyer 2 had 5000 PCIe A100 GPUs in 625 nodes, each containing 8 GPUs. At the time, they chose to exclusively use PCIe instead of DGX version of A100, since at the time the models they trained could fit within a single 40 GB GPU VRAM, so there was no need for the higher bandwidth of DGX (i.e. they required only data parallelism but not model parallelism).[28] Later, they also incorporated NVLinks and NCCL, to train larger models that required model parallelism\"\"\""
   ]
  },
  {
   "cell_type": "code",
   "execution_count": 113,
   "id": "8e4e4af7-a2a1-4bef-876a-075e509fdcc2",
   "metadata": {},
   "outputs": [
    {
     "data": {
      "text/plain": [
       "'High-Flyer/DeepSeek has built at least two computing clusters, Fire-Flyer (萤火一号) and Fire-Flyer 2 (萤火二号). Fire-Flyer began construction in 2019 and finished in 2020, at a cost of 200 million yuan. It contained 1100 GPUs interconnected at a rate of 200 Gbps. It was \"retired\" after 1.5 years in operation. Fire-Flyer 2 began construction in 2021 with a budget of 1 billion yuan.[16] It was reported that in 2022, Fire-Flyer 2 capacity had been utilized at over 96%, totaling 56.74 million GPU hours. Of those GPU hours, 27% was used to support scientific computing outside the company.[16]\\n\\nFire-Flyer 2 consisted of co-designed software and hardware architecture. On the hardware side, there are more GPUs with 200 Gbps interconnects. The cluster is divided into two \"zones\", and the platform supports cross-zone tasks. The network topology was two fat trees, chosen for its high bisection bandwidth. On the software side, there are[26][16]\\n\\n3FS (Fire-Flyer File System): A distributed parallel file system. It was specifically designed for asynchronous random reads from a dataset, and uses Direct I/O and RDMA Read. In contrast to standard Buffered I/O, Direct I/O does not cache data. Caching is useless for this case, since each data read is random, and would not be reused.[27]\\nhfreduce: Library for asynchronous communication, originally designed to replace Nvidia Collective Communication Library (NCCL).[28] It was mainly used for allreduce, especially of gradients during backpropagation. It is asynchronously run on the CPU to avoid blocking kernels on the GPU.[26] It uses two-tree broadcast like NCCL.[28]\\nhfai.nn: Software library of commonly used operators in neural network training, similar to torch.nn in PyTorch.\\nHaiScale Distributed Data Parallel (DDP): Parallel training library that implements various forms of parallelism in deep learning such as Data Parallelism (DP), Pipeline Parallelism (PP), Tensor Parallelism (TP), Experts Parallelism (EP), Fully Sharded Data Parallel (FSDP) and Zero Redundancy Optimizer (ZeRO). It is similar to PyTorch DDP, which uses NCCL on the backend.\\nHAI Platform: Various applications such as task scheduling, fault handling, and disaster recovery.[29]\\nDuring 2022, Fire-Flyer 2 had 5000 PCIe A100 GPUs in 625 nodes, each containing 8 GPUs. At the time, they chose to exclusively use PCIe instead of DGX version of A100, since at the time the models they trained could fit within a single 40 GB GPU VRAM, so there was no need for the higher bandwidth of DGX (i.e. they required only data parallelism but not model parallelism).[28] Later, they also incorporated NVLinks and NCCL, to train larger models that required model parallelism'"
      ]
     },
     "execution_count": 113,
     "metadata": {},
     "output_type": "execute_result"
    }
   ],
   "source": [
    "str3"
   ]
  },
  {
   "cell_type": "code",
   "execution_count": 114,
   "id": "2fbe85ea-03a2-49d5-a3fd-8b3b4c889661",
   "metadata": {},
   "outputs": [
    {
     "data": {
      "text/plain": [
       "'Hello Python'"
      ]
     },
     "execution_count": 114,
     "metadata": {},
     "output_type": "execute_result"
    }
   ],
   "source": [
    "str1"
   ]
  },
  {
   "cell_type": "markdown",
   "id": "9ee5f67e-8439-4fa5-935f-352d98e5b622",
   "metadata": {},
   "source": [
    "##### Indexing"
   ]
  },
  {
   "cell_type": "code",
   "execution_count": 116,
   "id": "a2868b1c-b762-47d7-a242-aed0071b4cab",
   "metadata": {},
   "outputs": [
    {
     "data": {
      "text/plain": [
       "'e'"
      ]
     },
     "execution_count": 116,
     "metadata": {},
     "output_type": "execute_result"
    }
   ],
   "source": [
    "str1[1]"
   ]
  },
  {
   "cell_type": "code",
   "execution_count": 117,
   "id": "e172784f-3670-4465-88b8-6b59ae3dde22",
   "metadata": {},
   "outputs": [
    {
     "data": {
      "text/plain": [
       "' '"
      ]
     },
     "execution_count": 117,
     "metadata": {},
     "output_type": "execute_result"
    }
   ],
   "source": [
    "str1[5]"
   ]
  },
  {
   "cell_type": "code",
   "execution_count": 120,
   "id": "6c74d676-da74-4818-b488-947381f1f94e",
   "metadata": {},
   "outputs": [
    {
     "data": {
      "text/plain": [
       "'n'"
      ]
     },
     "execution_count": 120,
     "metadata": {},
     "output_type": "execute_result"
    }
   ],
   "source": [
    "str1[11]"
   ]
  },
  {
   "cell_type": "code",
   "execution_count": 121,
   "id": "cbfaddd3-4d05-40de-a551-31d5960bb01f",
   "metadata": {},
   "outputs": [
    {
     "ename": "IndexError",
     "evalue": "string index out of range",
     "output_type": "error",
     "traceback": [
      "\u001b[1;31m---------------------------------------------------------------------------\u001b[0m",
      "\u001b[1;31mIndexError\u001b[0m                                Traceback (most recent call last)",
      "Cell \u001b[1;32mIn[121], line 1\u001b[0m\n\u001b[1;32m----> 1\u001b[0m str1[\u001b[38;5;241m12\u001b[39m]\n",
      "\u001b[1;31mIndexError\u001b[0m: string index out of range"
     ]
    }
   ],
   "source": [
    "str1[12]"
   ]
  },
  {
   "cell_type": "code",
   "execution_count": 123,
   "id": "d2c3ff38-5762-4996-86ad-e5487679e8ea",
   "metadata": {},
   "outputs": [
    {
     "data": {
      "text/plain": [
       "'n'"
      ]
     },
     "execution_count": 123,
     "metadata": {},
     "output_type": "execute_result"
    }
   ],
   "source": [
    "str1[-1]"
   ]
  },
  {
   "cell_type": "code",
   "execution_count": 124,
   "id": "86813d4e-d3db-4ab2-80be-e4686a9f7e5c",
   "metadata": {},
   "outputs": [
    {
     "data": {
      "text/plain": [
       "'P'"
      ]
     },
     "execution_count": 124,
     "metadata": {},
     "output_type": "execute_result"
    }
   ],
   "source": [
    "str1[-6]"
   ]
  },
  {
   "cell_type": "code",
   "execution_count": 125,
   "id": "6e846f8b-4976-4bcf-b81b-d43449bdf3d6",
   "metadata": {},
   "outputs": [
    {
     "data": {
      "text/plain": [
       "'P'"
      ]
     },
     "execution_count": 125,
     "metadata": {},
     "output_type": "execute_result"
    }
   ],
   "source": [
    "str1[6]"
   ]
  },
  {
   "cell_type": "markdown",
   "id": "9e4021d7-044e-406a-aba0-bc81c907bba8",
   "metadata": {},
   "source": [
    "##### Slicing"
   ]
  },
  {
   "cell_type": "code",
   "execution_count": 126,
   "id": "419e3d1e-8875-4ae4-a2e8-ad1dcfdfcee5",
   "metadata": {},
   "outputs": [
    {
     "data": {
      "text/plain": [
       "'Hel'"
      ]
     },
     "execution_count": 126,
     "metadata": {},
     "output_type": "execute_result"
    }
   ],
   "source": [
    "str1[0:3]  #[start:n-1]"
   ]
  },
  {
   "cell_type": "code",
   "execution_count": 127,
   "id": "ab010cc5-7ede-46f3-ba62-a5416168e9ee",
   "metadata": {},
   "outputs": [
    {
     "data": {
      "text/plain": [
       "'Hello Python'"
      ]
     },
     "execution_count": 127,
     "metadata": {},
     "output_type": "execute_result"
    }
   ],
   "source": [
    "str1"
   ]
  },
  {
   "cell_type": "code",
   "execution_count": 128,
   "id": "e20bf8f3-64bb-4830-bcc6-88e9a5b1d153",
   "metadata": {},
   "outputs": [
    {
     "data": {
      "text/plain": [
       "'Pyt'"
      ]
     },
     "execution_count": 128,
     "metadata": {},
     "output_type": "execute_result"
    }
   ],
   "source": [
    "str1[6:9]"
   ]
  },
  {
   "cell_type": "code",
   "execution_count": 129,
   "id": "411f4f52-bfb8-4e30-8eaa-e362027b4d46",
   "metadata": {},
   "outputs": [
    {
     "data": {
      "text/plain": [
       "'Python'"
      ]
     },
     "execution_count": 129,
     "metadata": {},
     "output_type": "execute_result"
    }
   ],
   "source": [
    "str1[6:12]"
   ]
  },
  {
   "cell_type": "code",
   "execution_count": 130,
   "id": "3a574cea-070f-4151-bc02-8771d40ff14f",
   "metadata": {},
   "outputs": [
    {
     "data": {
      "text/plain": [
       "'Hello Python'"
      ]
     },
     "execution_count": 130,
     "metadata": {},
     "output_type": "execute_result"
    }
   ],
   "source": [
    "str1"
   ]
  },
  {
   "cell_type": "code",
   "execution_count": 131,
   "id": "e52e6f7b-28e6-4bfb-8cd2-5134e7c7e37e",
   "metadata": {},
   "outputs": [
    {
     "data": {
      "text/plain": [
       "'Hello'"
      ]
     },
     "execution_count": 131,
     "metadata": {},
     "output_type": "execute_result"
    }
   ],
   "source": [
    "str1[:5]"
   ]
  },
  {
   "cell_type": "code",
   "execution_count": 132,
   "id": "94805f68-5d8c-44e2-aba9-7d9a094a6b86",
   "metadata": {},
   "outputs": [
    {
     "data": {
      "text/plain": [
       "'o Python'"
      ]
     },
     "execution_count": 132,
     "metadata": {},
     "output_type": "execute_result"
    }
   ],
   "source": [
    "str1[4:]"
   ]
  },
  {
   "cell_type": "code",
   "execution_count": 133,
   "id": "b4aa2d0c-956b-4a31-b54e-f20ff34dcc85",
   "metadata": {},
   "outputs": [
    {
     "data": {
      "text/plain": [
       "'thon'"
      ]
     },
     "execution_count": 133,
     "metadata": {},
     "output_type": "execute_result"
    }
   ],
   "source": [
    "str1[-4:]"
   ]
  },
  {
   "cell_type": "code",
   "execution_count": 134,
   "id": "232c8502-63b1-488a-80d4-ac224df3c261",
   "metadata": {},
   "outputs": [
    {
     "data": {
      "text/plain": [
       "'ello Python'"
      ]
     },
     "execution_count": 134,
     "metadata": {},
     "output_type": "execute_result"
    }
   ],
   "source": [
    "str1[-11:]"
   ]
  },
  {
   "cell_type": "code",
   "execution_count": 136,
   "id": "4a0f7efb-aeb1-4c71-869d-61d9c85cf15d",
   "metadata": {},
   "outputs": [
    {
     "data": {
      "text/plain": [
       "'Hell'"
      ]
     },
     "execution_count": 136,
     "metadata": {},
     "output_type": "execute_result"
    }
   ],
   "source": [
    "str1[-12:-8]"
   ]
  },
  {
   "cell_type": "code",
   "execution_count": 137,
   "id": "6f86b5af-34c7-42d8-84fb-c75e6183cc92",
   "metadata": {},
   "outputs": [
    {
     "data": {
      "text/plain": [
       "12"
      ]
     },
     "execution_count": 137,
     "metadata": {},
     "output_type": "execute_result"
    }
   ],
   "source": [
    "#### Number of char\n",
    "len(str1)"
   ]
  },
  {
   "cell_type": "code",
   "execution_count": 138,
   "id": "228dbe13-7f7e-47d6-880a-df09d8046a08",
   "metadata": {},
   "outputs": [
    {
     "ename": "NameError",
     "evalue": "name 'count' is not defined",
     "output_type": "error",
     "traceback": [
      "\u001b[1;31m---------------------------------------------------------------------------\u001b[0m",
      "\u001b[1;31mNameError\u001b[0m                                 Traceback (most recent call last)",
      "Cell \u001b[1;32mIn[138], line 1\u001b[0m\n\u001b[1;32m----> 1\u001b[0m count(str1)\n",
      "\u001b[1;31mNameError\u001b[0m: name 'count' is not defined"
     ]
    }
   ],
   "source": [
    "count(str1)"
   ]
  },
  {
   "cell_type": "code",
   "execution_count": 139,
   "id": "4f81442a-649a-46d3-a058-dc2e18ef8ef1",
   "metadata": {},
   "outputs": [
    {
     "data": {
      "text/plain": [
       "'HelloPython'"
      ]
     },
     "execution_count": 139,
     "metadata": {},
     "output_type": "execute_result"
    }
   ],
   "source": [
    "s1=\"Hello\"\n",
    "s2=\"Python\"\n",
    "s3=s1+s2\n",
    "s3"
   ]
  },
  {
   "cell_type": "code",
   "execution_count": 140,
   "id": "f98a8965-ed19-4ece-90cc-34834536605b",
   "metadata": {},
   "outputs": [],
   "source": [
    "s3=s1 + \"  \" +s2"
   ]
  },
  {
   "cell_type": "code",
   "execution_count": 141,
   "id": "23fe1f65-793b-4202-ad3f-c74088a9a5bb",
   "metadata": {},
   "outputs": [
    {
     "data": {
      "text/plain": [
       "'Hello  Python'"
      ]
     },
     "execution_count": 141,
     "metadata": {},
     "output_type": "execute_result"
    }
   ],
   "source": [
    "s3"
   ]
  },
  {
   "cell_type": "code",
   "execution_count": 144,
   "id": "418aba0d-2446-4304-b34d-48a4c1ca8f96",
   "metadata": {},
   "outputs": [
    {
     "ename": "TypeError",
     "evalue": "unsupported operand type(s) for /: 'str' and 'str'",
     "output_type": "error",
     "traceback": [
      "\u001b[1;31m---------------------------------------------------------------------------\u001b[0m",
      "\u001b[1;31mTypeError\u001b[0m                                 Traceback (most recent call last)",
      "Cell \u001b[1;32mIn[144], line 1\u001b[0m\n\u001b[1;32m----> 1\u001b[0m s3\u001b[38;5;241m=\u001b[39ms1\u001b[38;5;241m/\u001b[39ms2\n",
      "\u001b[1;31mTypeError\u001b[0m: unsupported operand type(s) for /: 'str' and 'str'"
     ]
    }
   ],
   "source": [
    "s3=s1/s2"
   ]
  },
  {
   "cell_type": "code",
   "execution_count": 147,
   "id": "9afad8fb-8fbb-41a3-b9f1-a27ba8d5caaf",
   "metadata": {},
   "outputs": [
    {
     "data": {
      "text/plain": [
       "'HelloHelloHello'"
      ]
     },
     "execution_count": 147,
     "metadata": {},
     "output_type": "execute_result"
    }
   ],
   "source": [
    "s1=\"Hello\"\n",
    "s2=3\n",
    "s3=s1*s2\n",
    "s3"
   ]
  },
  {
   "cell_type": "code",
   "execution_count": 148,
   "id": "06fe61a5-e43b-4cf2-a86b-c32b3ff5f671",
   "metadata": {},
   "outputs": [
    {
     "name": "stdout",
     "output_type": "stream",
     "text": [
      "H\n",
      "e\n",
      "l\n",
      "l\n",
      "o\n",
      "H\n",
      "e\n",
      "l\n",
      "l\n",
      "o\n",
      "H\n",
      "e\n",
      "l\n",
      "l\n",
      "o\n"
     ]
    }
   ],
   "source": [
    "for i in s3:\n",
    "    print(i)"
   ]
  },
  {
   "cell_type": "code",
   "execution_count": 149,
   "id": "f831051b-d6a6-4a14-b11c-21794b1f21f5",
   "metadata": {},
   "outputs": [
    {
     "ename": "IndentationError",
     "evalue": "expected an indented block after 'for' statement on line 1 (3289243234.py, line 2)",
     "output_type": "error",
     "traceback": [
      "\u001b[1;36m  Cell \u001b[1;32mIn[149], line 2\u001b[1;36m\u001b[0m\n\u001b[1;33m    print(i)\u001b[0m\n\u001b[1;37m    ^\u001b[0m\n\u001b[1;31mIndentationError\u001b[0m\u001b[1;31m:\u001b[0m expected an indented block after 'for' statement on line 1\n"
     ]
    }
   ],
   "source": [
    "for i in s3:\n",
    "print(i)"
   ]
  },
  {
   "cell_type": "code",
   "execution_count": 150,
   "id": "d7d7896a-64db-40b3-b184-169f1bf8f958",
   "metadata": {},
   "outputs": [
    {
     "data": {
      "text/plain": [
       "'hellohellohello'"
      ]
     },
     "execution_count": 150,
     "metadata": {},
     "output_type": "execute_result"
    }
   ],
   "source": [
    "s3.lower()"
   ]
  },
  {
   "cell_type": "code",
   "execution_count": 151,
   "id": "04cfcb4f-25ad-4513-a1b6-b1b30a1fe382",
   "metadata": {},
   "outputs": [
    {
     "data": {
      "text/plain": [
       "'HELLOHELLOHELLO'"
      ]
     },
     "execution_count": 151,
     "metadata": {},
     "output_type": "execute_result"
    }
   ],
   "source": [
    "s3.upper()"
   ]
  },
  {
   "cell_type": "code",
   "execution_count": 152,
   "id": "48564969-c27f-4549-9bfb-ab8185dbbdde",
   "metadata": {},
   "outputs": [
    {
     "data": {
      "text/plain": [
       "'Hello Have A Nice Day'"
      ]
     },
     "execution_count": 152,
     "metadata": {},
     "output_type": "execute_result"
    }
   ],
   "source": [
    "str4=\"hello have a nice day\"\n",
    "str4.title()"
   ]
  },
  {
   "cell_type": "code",
   "execution_count": 154,
   "id": "cda31d0f-7df6-4511-8b25-5404470f2bf8",
   "metadata": {},
   "outputs": [
    {
     "data": {
      "text/plain": [
       "'hello have a good day'"
      ]
     },
     "execution_count": 154,
     "metadata": {},
     "output_type": "execute_result"
    }
   ],
   "source": [
    "str4=str4.replace(\"nice\",\"good\")\n",
    "str4"
   ]
  },
  {
   "cell_type": "code",
   "execution_count": 155,
   "id": "10dc3289-7de4-4e1d-91c1-81daa0557446",
   "metadata": {},
   "outputs": [
    {
     "data": {
      "text/plain": [
       "True"
      ]
     },
     "execution_count": 155,
     "metadata": {},
     "output_type": "execute_result"
    }
   ],
   "source": [
    "\"day\" in str4"
   ]
  },
  {
   "cell_type": "code",
   "execution_count": 156,
   "id": "b8a9001d-64c6-44e2-bab7-3e3247e0bea4",
   "metadata": {},
   "outputs": [
    {
     "data": {
      "text/plain": [
       "False"
      ]
     },
     "execution_count": 156,
     "metadata": {},
     "output_type": "execute_result"
    }
   ],
   "source": [
    "\"night\" in str4"
   ]
  },
  {
   "cell_type": "code",
   "execution_count": 157,
   "id": "3b13cc5b-beb8-4519-ba50-c0822579e5e1",
   "metadata": {},
   "outputs": [],
   "source": [
    "str5=\"one two three one two one two three one\""
   ]
  },
  {
   "cell_type": "code",
   "execution_count": 158,
   "id": "be9edecf-c0ba-4562-8c05-8f3d2c665356",
   "metadata": {},
   "outputs": [
    {
     "data": {
      "text/plain": [
       "39"
      ]
     },
     "execution_count": 158,
     "metadata": {},
     "output_type": "execute_result"
    }
   ],
   "source": [
    "len(str5)"
   ]
  },
  {
   "cell_type": "code",
   "execution_count": 159,
   "id": "f300de0a-bde4-4fb7-9055-304cb320fed1",
   "metadata": {},
   "outputs": [
    {
     "data": {
      "text/plain": [
       "4"
      ]
     },
     "execution_count": 159,
     "metadata": {},
     "output_type": "execute_result"
    }
   ],
   "source": [
    "str5.count(\"one\")"
   ]
  },
  {
   "cell_type": "code",
   "execution_count": 160,
   "id": "a2766d14-34b7-47fd-8050-afe31f08ba14",
   "metadata": {},
   "outputs": [
    {
     "data": {
      "text/plain": [
       "2"
      ]
     },
     "execution_count": 160,
     "metadata": {},
     "output_type": "execute_result"
    }
   ],
   "source": [
    "str5.count(\"three\")"
   ]
  },
  {
   "cell_type": "code",
   "execution_count": 161,
   "id": "a6fea7e1-7c24-4662-9d45-d5d7638a1c11",
   "metadata": {},
   "outputs": [
    {
     "data": {
      "text/plain": [
       "0"
      ]
     },
     "execution_count": 161,
     "metadata": {},
     "output_type": "execute_result"
    }
   ],
   "source": [
    "str5.count(\"six\")"
   ]
  },
  {
   "cell_type": "code",
   "execution_count": 164,
   "id": "e910cd73-9c03-44e8-a491-f3e81aed63f2",
   "metadata": {},
   "outputs": [
    {
     "data": {
      "text/plain": [
       "True"
      ]
     },
     "execution_count": 164,
     "metadata": {},
     "output_type": "execute_result"
    }
   ],
   "source": [
    "str5.startswith(\"one \")"
   ]
  },
  {
   "cell_type": "code",
   "execution_count": 165,
   "id": "b8cbef41-3a14-4c13-b297-6a060073a210",
   "metadata": {},
   "outputs": [
    {
     "data": {
      "text/plain": [
       "False"
      ]
     },
     "execution_count": 165,
     "metadata": {},
     "output_type": "execute_result"
    }
   ],
   "source": [
    "str5.startswith(\"One \")"
   ]
  },
  {
   "cell_type": "code",
   "execution_count": 166,
   "id": "f06e7df7-d525-4926-a671-35647f977094",
   "metadata": {},
   "outputs": [
    {
     "data": {
      "text/plain": [
       "True"
      ]
     },
     "execution_count": 166,
     "metadata": {},
     "output_type": "execute_result"
    }
   ],
   "source": [
    "str5.endswith(\"e\")"
   ]
  },
  {
   "cell_type": "code",
   "execution_count": 167,
   "id": "5b8c24e1-cbde-431b-95fb-6a589ea7d3cf",
   "metadata": {},
   "outputs": [
    {
     "data": {
      "text/plain": [
       "['one', 'two', 'three', 'one', 'two', 'one', 'two', 'three', 'one']"
      ]
     },
     "execution_count": 167,
     "metadata": {},
     "output_type": "execute_result"
    }
   ],
   "source": [
    "str5.split()"
   ]
  },
  {
   "cell_type": "code",
   "execution_count": 172,
   "id": "2955bf81-b5cc-40d4-97d8-5945c1c5ca4b",
   "metadata": {},
   "outputs": [
    {
     "data": {
      "text/plain": [
       "'                              one two three one two one two three one                               '"
      ]
     },
     "execution_count": 172,
     "metadata": {},
     "output_type": "execute_result"
    }
   ],
   "source": [
    "str5.center(100)"
   ]
  },
  {
   "cell_type": "code",
   "execution_count": 173,
   "id": "f16f2cee-336c-4a03-8b50-faca08438d88",
   "metadata": {},
   "outputs": [
    {
     "data": {
      "text/plain": [
       "'******************************one two three one two one two three one*******************************'"
      ]
     },
     "execution_count": 173,
     "metadata": {},
     "output_type": "execute_result"
    }
   ],
   "source": [
    "str5.center(100,\"*\")"
   ]
  },
  {
   "cell_type": "code",
   "execution_count": 174,
   "id": "030ecf29-d372-4297-baa0-92c5e648ec95",
   "metadata": {},
   "outputs": [
    {
     "data": {
      "text/plain": [
       "'*************************************************************one two three one two one two three one'"
      ]
     },
     "execution_count": 174,
     "metadata": {},
     "output_type": "execute_result"
    }
   ],
   "source": [
    "str5.rjust(100,\"*\")"
   ]
  },
  {
   "cell_type": "code",
   "execution_count": 175,
   "id": "0e145d4b-966c-4bc3-834f-fa40986edc02",
   "metadata": {},
   "outputs": [
    {
     "data": {
      "text/plain": [
       "'one two three one two one two three one*************************************************************'"
      ]
     },
     "execution_count": 175,
     "metadata": {},
     "output_type": "execute_result"
    }
   ],
   "source": [
    "str5.ljust(100,\"*\")"
   ]
  },
  {
   "cell_type": "code",
   "execution_count": 177,
   "id": "a2962ae3-6fdf-4136-9764-612e914c7a0d",
   "metadata": {},
   "outputs": [
    {
     "data": {
      "text/plain": [
       "'one two three one two one two three one'"
      ]
     },
     "execution_count": 177,
     "metadata": {},
     "output_type": "execute_result"
    }
   ],
   "source": [
    "str5"
   ]
  },
  {
   "cell_type": "code",
   "execution_count": 176,
   "id": "e5f6be12-8890-4348-a0fd-3739a701848a",
   "metadata": {},
   "outputs": [
    {
     "data": {
      "text/plain": [
       "0"
      ]
     },
     "execution_count": 176,
     "metadata": {},
     "output_type": "execute_result"
    }
   ],
   "source": [
    "str5.find(\"one\")"
   ]
  },
  {
   "cell_type": "code",
   "execution_count": 178,
   "id": "f23dca0c-b9ef-490b-9a80-f10a567edb55",
   "metadata": {},
   "outputs": [
    {
     "data": {
      "text/plain": [
       "4"
      ]
     },
     "execution_count": 178,
     "metadata": {},
     "output_type": "execute_result"
    }
   ],
   "source": [
    "str5.find(\"two\")"
   ]
  },
  {
   "cell_type": "code",
   "execution_count": 179,
   "id": "bd1511ac-7437-4351-8a16-50bc6877289f",
   "metadata": {},
   "outputs": [
    {
     "data": {
      "text/plain": [
       "4"
      ]
     },
     "execution_count": 179,
     "metadata": {},
     "output_type": "execute_result"
    }
   ],
   "source": [
    "str5.index(\"two\")"
   ]
  },
  {
   "cell_type": "code",
   "execution_count": 180,
   "id": "169747f9-e552-4c2a-8ed7-ee13b4bb92ed",
   "metadata": {},
   "outputs": [
    {
     "data": {
      "text/plain": [
       "True"
      ]
     },
     "execution_count": 180,
     "metadata": {},
     "output_type": "execute_result"
    }
   ],
   "source": [
    "mystr=\"12345678\"\n",
    "mystr.isnumeric()"
   ]
  },
  {
   "cell_type": "code",
   "execution_count": 183,
   "id": "60ad641f-249a-4d06-98bf-1ce41db154c9",
   "metadata": {},
   "outputs": [
    {
     "data": {
      "text/plain": [
       "True"
      ]
     },
     "execution_count": 183,
     "metadata": {},
     "output_type": "execute_result"
    }
   ],
   "source": [
    "mystr.isdecimal()"
   ]
  },
  {
   "cell_type": "code",
   "execution_count": 184,
   "id": "3c5a4c30-a9d8-4f0d-9e35-6e23f7f77de7",
   "metadata": {},
   "outputs": [
    {
     "data": {
      "text/plain": [
       "False"
      ]
     },
     "execution_count": 184,
     "metadata": {},
     "output_type": "execute_result"
    }
   ],
   "source": [
    "mystr1=\"abcd\"\n",
    "mystr1.isnumeric()"
   ]
  },
  {
   "cell_type": "code",
   "execution_count": 185,
   "id": "5b6a56c2-587c-45e9-8ece-fd0a813d6a56",
   "metadata": {},
   "outputs": [
    {
     "data": {
      "text/plain": [
       "False"
      ]
     },
     "execution_count": 185,
     "metadata": {},
     "output_type": "execute_result"
    }
   ],
   "source": [
    "mystr1.isdecimal()"
   ]
  },
  {
   "cell_type": "code",
   "execution_count": 187,
   "id": "24a9485c-c421-4724-8451-f703dbde20ed",
   "metadata": {},
   "outputs": [
    {
     "data": {
      "text/plain": [
       "True"
      ]
     },
     "execution_count": 187,
     "metadata": {},
     "output_type": "execute_result"
    }
   ],
   "source": [
    "mystr1.isalpha()"
   ]
  },
  {
   "cell_type": "code",
   "execution_count": null,
   "id": "9ab58727-0461-4aa9-800c-fe2db11f2e0d",
   "metadata": {},
   "outputs": [],
   "source": [
    "#### Self-Assessment-1: https://github.com/Premalatha-success/TIAA_batch1_nov/blob/main/string_exercise.docx\n",
    "\n",
    "o\tWrite a Python code to check if the word \"learn\" is in the sentence \"Let's all learn Python!\".\n",
    "o\tConvert the string \"hello world\" to uppercase.\n",
    "o\tConcatenate two strings: \"Data\" and \"Analysis\".\n",
    "o\tReplace all occurrences of \"a\" with \"@\" in the string \"DataAnalytics\".\n",
    "o\tWrite a Python code to reverse the string \"Python\".\n",
    "o\tCount how many times the letter \"e\" appears in the string \"Experience\".\n",
    "o\tSplit the string \"Learn,Analyze,Build\" into a list of words.\n",
    "o\tCreate a string variable with your full name.\n",
    "o\tWhat is the length of the string \"PythonProgramming\"?\n",
    "o\tHow would you extract the first three characters of the string \"DataScience\"?\n"
   ]
  },
  {
   "cell_type": "markdown",
   "id": "8b95cca1-9d59-41b8-afbc-ea9cf9a07d24",
   "metadata": {},
   "source": [
    "#### List"
   ]
  },
  {
   "cell_type": "code",
   "execution_count": null,
   "id": "8e27ccdb-6864-4381-9bd2-7931248b264f",
   "metadata": {},
   "outputs": [],
   "source": [
    "##### list is an ordered sequence of items\n",
    "##### Heterogenous-> multiple data types"
   ]
  },
  {
   "cell_type": "code",
   "execution_count": 189,
   "id": "e2bba964-30f0-48fc-8fda-c39644df5049",
   "metadata": {},
   "outputs": [
    {
     "data": {
      "text/plain": [
       "[1, 6, 2, 7.8, 3.4, 'python', 'pyspark', 1, 'python']"
      ]
     },
     "execution_count": 189,
     "metadata": {},
     "output_type": "execute_result"
    }
   ],
   "source": [
    "list1=[1,6,2,7.8,3.4,\"python\",\"pyspark\",1,\"python\"]\n",
    "list1"
   ]
  },
  {
   "cell_type": "code",
   "execution_count": 190,
   "id": "0239c39c-c981-4397-882e-e4de84184963",
   "metadata": {},
   "outputs": [
    {
     "data": {
      "text/plain": [
       "[1, 4, 2, 6.3, ['R', 'Python'], 65, [90, 'mni']]"
      ]
     },
     "execution_count": 190,
     "metadata": {},
     "output_type": "execute_result"
    }
   ],
   "source": [
    "list2=[1,4,2,6.3,[\"R\",\"Python\"],65,[90,\"mni\"]]\n",
    "list2"
   ]
  },
  {
   "cell_type": "code",
   "execution_count": 191,
   "id": "0ebf0640-8c34-4778-abb8-5aa530544977",
   "metadata": {},
   "outputs": [
    {
     "data": {
      "text/plain": [
       "1"
      ]
     },
     "execution_count": 191,
     "metadata": {},
     "output_type": "execute_result"
    }
   ],
   "source": [
    "list1[0]"
   ]
  },
  {
   "cell_type": "code",
   "execution_count": 192,
   "id": "8e50f4f9-e955-45e7-8db3-4e4370192dbb",
   "metadata": {},
   "outputs": [
    {
     "data": {
      "text/plain": [
       "'python'"
      ]
     },
     "execution_count": 192,
     "metadata": {},
     "output_type": "execute_result"
    }
   ],
   "source": [
    "list1[-1]"
   ]
  },
  {
   "cell_type": "code",
   "execution_count": 193,
   "id": "884d456b-2940-4a2c-b7fa-2663a2b8834d",
   "metadata": {},
   "outputs": [
    {
     "data": {
      "text/plain": [
       "[2, 7.8, 3.4]"
      ]
     },
     "execution_count": 193,
     "metadata": {},
     "output_type": "execute_result"
    }
   ],
   "source": [
    "list1[2:5]"
   ]
  },
  {
   "cell_type": "code",
   "execution_count": 194,
   "id": "58c8f6dd-99ec-42af-b9ce-01d6b1416f84",
   "metadata": {},
   "outputs": [
    {
     "data": {
      "text/plain": [
       "9"
      ]
     },
     "execution_count": 194,
     "metadata": {},
     "output_type": "execute_result"
    }
   ],
   "source": [
    "len(list1)"
   ]
  },
  {
   "cell_type": "code",
   "execution_count": 195,
   "id": "7ea79085-956e-4715-a230-3d4857af5cf2",
   "metadata": {},
   "outputs": [
    {
     "data": {
      "text/plain": [
       "[1, 4, 2, 6.3, ['R', 'Python'], 65, [90, 'mni']]"
      ]
     },
     "execution_count": 195,
     "metadata": {},
     "output_type": "execute_result"
    }
   ],
   "source": [
    "list2"
   ]
  },
  {
   "cell_type": "code",
   "execution_count": 196,
   "id": "6faf60d6-c699-4314-9128-792230f6fea4",
   "metadata": {},
   "outputs": [
    {
     "data": {
      "text/plain": [
       "['R', 'Python']"
      ]
     },
     "execution_count": 196,
     "metadata": {},
     "output_type": "execute_result"
    }
   ],
   "source": [
    "list2[4]"
   ]
  },
  {
   "cell_type": "code",
   "execution_count": 197,
   "id": "742c675a-facc-450f-8082-b1622623cf16",
   "metadata": {},
   "outputs": [
    {
     "data": {
      "text/plain": [
       "'R'"
      ]
     },
     "execution_count": 197,
     "metadata": {},
     "output_type": "execute_result"
    }
   ],
   "source": [
    "list2[4][0]"
   ]
  },
  {
   "cell_type": "code",
   "execution_count": 198,
   "id": "1022298e-078e-487e-8351-ff69c99dc872",
   "metadata": {},
   "outputs": [
    {
     "data": {
      "text/plain": [
       "'Python'"
      ]
     },
     "execution_count": 198,
     "metadata": {},
     "output_type": "execute_result"
    }
   ],
   "source": [
    "list2[4][1]"
   ]
  },
  {
   "cell_type": "code",
   "execution_count": 199,
   "id": "07aafab1-751e-4e1f-9f65-9f97c0dbeff2",
   "metadata": {},
   "outputs": [
    {
     "data": {
      "text/plain": [
       "[90, 'mni']"
      ]
     },
     "execution_count": 199,
     "metadata": {},
     "output_type": "execute_result"
    }
   ],
   "source": [
    "list2[-1]"
   ]
  },
  {
   "cell_type": "code",
   "execution_count": 200,
   "id": "2dd3b70d-ae15-472d-9cb9-4472afb9f3c4",
   "metadata": {},
   "outputs": [],
   "source": [
    "list2.append(100)"
   ]
  },
  {
   "cell_type": "code",
   "execution_count": 201,
   "id": "38e880c5-0111-4a69-ba74-73684bd7bf31",
   "metadata": {},
   "outputs": [
    {
     "data": {
      "text/plain": [
       "[1, 4, 2, 6.3, ['R', 'Python'], 65, [90, 'mni'], 100]"
      ]
     },
     "execution_count": 201,
     "metadata": {},
     "output_type": "execute_result"
    }
   ],
   "source": [
    "list2"
   ]
  },
  {
   "cell_type": "code",
   "execution_count": 204,
   "id": "71b07eca-654e-4c73-bfa0-174f143fec43",
   "metadata": {},
   "outputs": [],
   "source": [
    "list2.insert(10,4) #not working"
   ]
  },
  {
   "cell_type": "code",
   "execution_count": 205,
   "id": "9d3cb5fa-8677-4de2-aa4b-c31e61135b5d",
   "metadata": {},
   "outputs": [
    {
     "data": {
      "text/plain": [
       "[1, 4, 2, 6.3, ['R', 'Python'], 65, [90, 'mni'], 100, 4, 4]"
      ]
     },
     "execution_count": 205,
     "metadata": {},
     "output_type": "execute_result"
    }
   ],
   "source": [
    "list2"
   ]
  },
  {
   "cell_type": "code",
   "execution_count": 206,
   "id": "7de772e4-8d1a-47c7-97eb-a1ff8d496fe4",
   "metadata": {},
   "outputs": [],
   "source": [
    "list2.insert(4,10)"
   ]
  },
  {
   "cell_type": "code",
   "execution_count": 207,
   "id": "2b5f4e7b-53f2-49e1-ae6c-e69567d66f1e",
   "metadata": {},
   "outputs": [
    {
     "data": {
      "text/plain": [
       "[1, 4, 2, 6.3, 10, ['R', 'Python'], 65, [90, 'mni'], 100, 4, 4]"
      ]
     },
     "execution_count": 207,
     "metadata": {},
     "output_type": "execute_result"
    }
   ],
   "source": [
    "list2"
   ]
  },
  {
   "cell_type": "code",
   "execution_count": 208,
   "id": "e616f2f1-bb38-4e1b-ad2a-dfc84988abf4",
   "metadata": {},
   "outputs": [],
   "source": [
    "list2.remove(10)"
   ]
  },
  {
   "cell_type": "code",
   "execution_count": 209,
   "id": "cfa306c3-56e3-4c7f-8ace-03b1d1ca8a2f",
   "metadata": {},
   "outputs": [
    {
     "data": {
      "text/plain": [
       "[1, 4, 2, 6.3, ['R', 'Python'], 65, [90, 'mni'], 100, 4, 4]"
      ]
     },
     "execution_count": 209,
     "metadata": {},
     "output_type": "execute_result"
    }
   ],
   "source": [
    "list2"
   ]
  },
  {
   "cell_type": "code",
   "execution_count": 210,
   "id": "8511f057-3e6c-436c-a485-14ae159e696a",
   "metadata": {},
   "outputs": [
    {
     "data": {
      "text/plain": [
       "[1, 4, 2, 6.3, ['R', 'Python'], 65, [90, 'mni'], 100, 4]"
      ]
     },
     "execution_count": 210,
     "metadata": {},
     "output_type": "execute_result"
    }
   ],
   "source": [
    "list2.pop()\n",
    "list2"
   ]
  },
  {
   "cell_type": "code",
   "execution_count": 211,
   "id": "75b5cfe8-08b4-4baa-ad4d-a45fefd636bd",
   "metadata": {},
   "outputs": [
    {
     "data": {
      "text/plain": [
       "[1, 4, 2, 6.3, ['R', 'Python'], 65, [90, 'mni'], 4]"
      ]
     },
     "execution_count": 211,
     "metadata": {},
     "output_type": "execute_result"
    }
   ],
   "source": [
    "list2.pop(-2)\n",
    "list2"
   ]
  },
  {
   "cell_type": "code",
   "execution_count": 234,
   "id": "586b64e6-8281-439d-bb47-2038e5849bf5",
   "metadata": {},
   "outputs": [
    {
     "data": {
      "text/plain": [
       "[1, 2, 9, 4, 4, 5, 6, 7]"
      ]
     },
     "execution_count": 234,
     "metadata": {},
     "output_type": "execute_result"
    }
   ],
   "source": [
    "list1=[1,2,9,4,]\n",
    "list2=[4,5,6,7]\n",
    "list3=list1+list2\n",
    "list3"
   ]
  },
  {
   "cell_type": "code",
   "execution_count": 235,
   "id": "ad254f51-b51f-41cc-8c77-fc14f14368e6",
   "metadata": {},
   "outputs": [],
   "source": [
    "list3.sort()"
   ]
  },
  {
   "cell_type": "code",
   "execution_count": 236,
   "id": "8c546003-21d3-4cbd-ad98-0d4f8a8698ec",
   "metadata": {},
   "outputs": [
    {
     "data": {
      "text/plain": [
       "[1, 2, 4, 4, 5, 6, 7, 9]"
      ]
     },
     "execution_count": 236,
     "metadata": {},
     "output_type": "execute_result"
    }
   ],
   "source": [
    "list3"
   ]
  },
  {
   "cell_type": "code",
   "execution_count": 213,
   "id": "69376230-59e5-4129-8b25-b24e1431f060",
   "metadata": {},
   "outputs": [
    {
     "ename": "TypeError",
     "evalue": "unsupported operand type(s) for -: 'list' and 'list'",
     "output_type": "error",
     "traceback": [
      "\u001b[1;31m---------------------------------------------------------------------------\u001b[0m",
      "\u001b[1;31mTypeError\u001b[0m                                 Traceback (most recent call last)",
      "Cell \u001b[1;32mIn[213], line 1\u001b[0m\n\u001b[1;32m----> 1\u001b[0m list3\u001b[38;5;241m=\u001b[39mlist1\u001b[38;5;241m-\u001b[39mlist2\n\u001b[0;32m      2\u001b[0m list3\n",
      "\u001b[1;31mTypeError\u001b[0m: unsupported operand type(s) for -: 'list' and 'list'"
     ]
    }
   ],
   "source": [
    "list3=list1-list2\n",
    "list3"
   ]
  },
  {
   "cell_type": "code",
   "execution_count": 214,
   "id": "a1405359-c2c1-4da7-8bda-698f857fb1d2",
   "metadata": {},
   "outputs": [],
   "source": [
    "list1.extend(list2)"
   ]
  },
  {
   "cell_type": "code",
   "execution_count": 215,
   "id": "dc03f7e0-c602-48b9-8774-d55446104afd",
   "metadata": {},
   "outputs": [
    {
     "data": {
      "text/plain": [
       "[1, 2, 3, 4, 4, 5, 6, 7]"
      ]
     },
     "execution_count": 215,
     "metadata": {},
     "output_type": "execute_result"
    }
   ],
   "source": [
    "list1"
   ]
  },
  {
   "cell_type": "code",
   "execution_count": null,
   "id": "6adbd821-a4ca-4b45-a895-a0bec295eb59",
   "metadata": {},
   "outputs": [],
   "source": []
  },
  {
   "cell_type": "code",
   "execution_count": 216,
   "id": "7202a750-dac5-48f7-9759-7cda7cd25eea",
   "metadata": {},
   "outputs": [
    {
     "data": {
      "text/plain": [
       "True"
      ]
     },
     "execution_count": 216,
     "metadata": {},
     "output_type": "execute_result"
    }
   ],
   "source": [
    "7 in list1"
   ]
  },
  {
   "cell_type": "code",
   "execution_count": 217,
   "id": "18d63f5b-335e-4c98-b380-7ff7d371637e",
   "metadata": {},
   "outputs": [
    {
     "data": {
      "text/plain": [
       "False"
      ]
     },
     "execution_count": 217,
     "metadata": {},
     "output_type": "execute_result"
    }
   ],
   "source": [
    "\"e\" in list1"
   ]
  },
  {
   "cell_type": "code",
   "execution_count": 218,
   "id": "3264316f-fbc8-42e2-b411-9ca4439f1dd9",
   "metadata": {},
   "outputs": [
    {
     "data": {
      "text/plain": [
       "[7, 6, 5, 4, 4, 3, 2, 1]"
      ]
     },
     "execution_count": 218,
     "metadata": {},
     "output_type": "execute_result"
    }
   ],
   "source": [
    "list1[::-1]"
   ]
  },
  {
   "cell_type": "code",
   "execution_count": 226,
   "id": "9da7ff45-56f9-4c2d-8766-1438229c44c7",
   "metadata": {},
   "outputs": [
    {
     "data": {
      "text/plain": [
       "[1, 6.6, 9, 'hello', 'apple']"
      ]
     },
     "execution_count": 226,
     "metadata": {},
     "output_type": "execute_result"
    }
   ],
   "source": [
    "list1=[1,6.6,9,\"hello\",\"apple\"]\n",
    "list1"
   ]
  },
  {
   "cell_type": "code",
   "execution_count": 227,
   "id": "b9e48f40-005d-4fb5-bbaf-5584edf702fa",
   "metadata": {},
   "outputs": [
    {
     "data": {
      "text/plain": [
       "[1, 7.6, 5, 'hi', 'apple']"
      ]
     },
     "execution_count": 227,
     "metadata": {},
     "output_type": "execute_result"
    }
   ],
   "source": [
    "list2=[1,7.6,5,\"hi\",\"apple\"]\n",
    "list2"
   ]
  },
  {
   "cell_type": "code",
   "execution_count": 228,
   "id": "2c4f1a99-acbd-4ef3-a43f-c2fe9ca83807",
   "metadata": {},
   "outputs": [],
   "source": [
    "list3=list1+list2"
   ]
  },
  {
   "cell_type": "code",
   "execution_count": 229,
   "id": "5084f2d4-f43c-4bc6-b88c-36cab1e3067f",
   "metadata": {
    "scrolled": true
   },
   "outputs": [
    {
     "data": {
      "text/plain": [
       "[1, 6.6, 9, 'hello', 'apple', 1, 7.6, 5, 'hi', 'apple']"
      ]
     },
     "execution_count": 229,
     "metadata": {},
     "output_type": "execute_result"
    }
   ],
   "source": [
    "list3"
   ]
  },
  {
   "cell_type": "code",
   "execution_count": 230,
   "id": "c36f3270-31c8-4ec5-a150-74a505b13b3f",
   "metadata": {},
   "outputs": [
    {
     "ename": "TypeError",
     "evalue": "'<' not supported between instances of 'str' and 'int'",
     "output_type": "error",
     "traceback": [
      "\u001b[1;31m---------------------------------------------------------------------------\u001b[0m",
      "\u001b[1;31mTypeError\u001b[0m                                 Traceback (most recent call last)",
      "Cell \u001b[1;32mIn[230], line 1\u001b[0m\n\u001b[1;32m----> 1\u001b[0m list3\u001b[38;5;241m.\u001b[39msort()\n",
      "\u001b[1;31mTypeError\u001b[0m: '<' not supported between instances of 'str' and 'int'"
     ]
    }
   ],
   "source": [
    "list3.sort()"
   ]
  },
  {
   "cell_type": "code",
   "execution_count": 223,
   "id": "0b106ffb-4ed8-4c34-bba4-586c4a1a67aa",
   "metadata": {},
   "outputs": [
    {
     "data": {
      "text/plain": [
       "[1, 6.6, 9, 'hello', 'apple', 1, 7.6, 5, 'hi', 'apple']"
      ]
     },
     "execution_count": 223,
     "metadata": {},
     "output_type": "execute_result"
    }
   ],
   "source": [
    "list1.extend(list2)\n",
    "list1"
   ]
  },
  {
   "cell_type": "code",
   "execution_count": 224,
   "id": "2a31059a-68bf-4902-aaf4-53ebf8623aac",
   "metadata": {},
   "outputs": [
    {
     "data": {
      "text/plain": [
       "['apple', 'hi', 5, 7.6, 1, 'apple', 'hello', 9, 6.6, 1]"
      ]
     },
     "execution_count": 224,
     "metadata": {},
     "output_type": "execute_result"
    }
   ],
   "source": [
    "list3[::-1]"
   ]
  },
  {
   "cell_type": "code",
   "execution_count": 225,
   "id": "638919ae-4c56-422c-be74-c3155d9eb889",
   "metadata": {},
   "outputs": [
    {
     "ename": "TypeError",
     "evalue": "'<' not supported between instances of 'str' and 'int'",
     "output_type": "error",
     "traceback": [
      "\u001b[1;31m---------------------------------------------------------------------------\u001b[0m",
      "\u001b[1;31mTypeError\u001b[0m                                 Traceback (most recent call last)",
      "Cell \u001b[1;32mIn[225], line 1\u001b[0m\n\u001b[1;32m----> 1\u001b[0m list3\u001b[38;5;241m.\u001b[39msort()\n",
      "\u001b[1;31mTypeError\u001b[0m: '<' not supported between instances of 'str' and 'int'"
     ]
    }
   ],
   "source": [
    "list3.sort()"
   ]
  },
  {
   "cell_type": "code",
   "execution_count": 237,
   "id": "6ff4cd5b-9ba0-4a7e-8a39-5b8b07d28a2b",
   "metadata": {},
   "outputs": [],
   "source": [
    "sample_list=[\"boy\",\"zebra\",\"cat\",\"apple\",\"DOLL\",\"HELLO\"]\n",
    "sample_list.sort()"
   ]
  },
  {
   "cell_type": "code",
   "execution_count": 238,
   "id": "4201923c-8a09-490d-b17d-9957566524b1",
   "metadata": {},
   "outputs": [
    {
     "data": {
      "text/plain": [
       "['DOLL', 'HELLO', 'apple', 'boy', 'cat', 'zebra']"
      ]
     },
     "execution_count": 238,
     "metadata": {},
     "output_type": "execute_result"
    }
   ],
   "source": [
    "sample_list"
   ]
  },
  {
   "cell_type": "code",
   "execution_count": 239,
   "id": "5c499f84-63d8-460a-bffe-ad781d56e204",
   "metadata": {},
   "outputs": [
    {
     "data": {
      "text/plain": [
       "['zebra', 'cat', 'boy', 'apple', 'HELLO', 'DOLL']"
      ]
     },
     "execution_count": 239,
     "metadata": {},
     "output_type": "execute_result"
    }
   ],
   "source": [
    "sample_list.sort(reverse=True)\n",
    "sample_list"
   ]
  },
  {
   "cell_type": "code",
   "execution_count": 240,
   "id": "f7e35c52-a570-4467-a02b-52837aeecf6e",
   "metadata": {},
   "outputs": [
    {
     "data": {
      "text/plain": [
       "1"
      ]
     },
     "execution_count": 240,
     "metadata": {},
     "output_type": "execute_result"
    }
   ],
   "source": [
    "sample_list.count(\"cat\")"
   ]
  },
  {
   "cell_type": "code",
   "execution_count": 241,
   "id": "ba27f7cb-4e1b-4264-b6e4-d642f623132d",
   "metadata": {},
   "outputs": [
    {
     "data": {
      "text/plain": [
       "6"
      ]
     },
     "execution_count": 241,
     "metadata": {},
     "output_type": "execute_result"
    }
   ],
   "source": [
    "len(sample_list)"
   ]
  },
  {
   "cell_type": "code",
   "execution_count": 242,
   "id": "2d1ea87a-2a91-46b9-b8d0-a357c8d937d6",
   "metadata": {},
   "outputs": [
    {
     "data": {
      "text/plain": [
       "0"
      ]
     },
     "execution_count": 242,
     "metadata": {},
     "output_type": "execute_result"
    }
   ],
   "source": [
    "sample_list.count(\"c\")"
   ]
  },
  {
   "cell_type": "code",
   "execution_count": 243,
   "id": "ffec933f-72b4-44c6-95e8-c94c23c53369",
   "metadata": {},
   "outputs": [
    {
     "data": {
      "text/plain": [
       "list"
      ]
     },
     "execution_count": 243,
     "metadata": {},
     "output_type": "execute_result"
    }
   ],
   "source": [
    "type(sample_list)"
   ]
  },
  {
   "cell_type": "code",
   "execution_count": 244,
   "id": "9481e95d-b937-4c1c-8963-ec39170d25aa",
   "metadata": {},
   "outputs": [
    {
     "name": "stdout",
     "output_type": "stream",
     "text": [
      "zebra\n",
      "cat\n",
      "boy\n",
      "apple\n",
      "HELLO\n",
      "DOLL\n"
     ]
    }
   ],
   "source": [
    "for i in sample_list:\n",
    "    print(i)"
   ]
  },
  {
   "cell_type": "code",
   "execution_count": null,
   "id": "f74ab0eb-615a-45b5-a66e-550aec8199d9",
   "metadata": {},
   "outputs": [],
   "source": [
    "### Self-Assessment 2: https://github.com/Premalatha-success/TIAA_batch1_nov/blob/main/list_exercise%20(1).docx\n",
    "\n",
    "1.\tCreate a list of five numbers.\n",
    "2.\tHow would you append the number 6 to the list [1, 2, 3, 4, 5]?\n",
    "3.\tHow would you access the third element in the list [\"apple\", \"banana\", \"cherry\", \"date\"]?\n",
    "4.\tRemove the last item from the list [10, 20, 30, 40].\n",
    "5.\tWrite a Python code to sort the list [4, 1, 8, 5, 2] in ascending order.\n",
    "6.\tCreate a list with mixed data types: an integer, a string, and a floating-point number.\n",
    "7.\tUse list slicing to get the first three elements of the list [10, 20, 30, 40, 50].\n",
    "8.\tCount how many times the number 3 appears in the list [1, 3, 3, 5, 7].\n",
    "9.\tWrite a Python code to merge the lists [1, 2] and [3, 4] into one list.\n",
    "10.\tHow would you clear all the items in the list [\"a\", \"b\", \"c\", \"d\"]?\n",
    "\n"
   ]
  },
  {
   "cell_type": "code",
   "execution_count": 245,
   "id": "3290ae68-c340-4f32-a47f-ad17738f837e",
   "metadata": {},
   "outputs": [
    {
     "data": {
      "text/plain": [
       "[1, 2, 9, 4]"
      ]
     },
     "execution_count": 245,
     "metadata": {},
     "output_type": "execute_result"
    }
   ],
   "source": [
    "list1"
   ]
  },
  {
   "cell_type": "code",
   "execution_count": 246,
   "id": "ca30f9b6-bac3-45e4-904f-77ca8af1045d",
   "metadata": {},
   "outputs": [],
   "source": [
    "list1[0]=10"
   ]
  },
  {
   "cell_type": "code",
   "execution_count": 247,
   "id": "c258ba1a-1cc1-4bbc-acb2-6f67c37aa17e",
   "metadata": {},
   "outputs": [
    {
     "data": {
      "text/plain": [
       "[10, 2, 9, 4]"
      ]
     },
     "execution_count": 247,
     "metadata": {},
     "output_type": "execute_result"
    }
   ],
   "source": [
    "list1"
   ]
  },
  {
   "cell_type": "code",
   "execution_count": null,
   "id": "34901429-5faf-41e6-8c00-1bc26e42c497",
   "metadata": {},
   "outputs": [],
   "source": [
    "##### Mutable-> we can make changes"
   ]
  },
  {
   "cell_type": "markdown",
   "id": "5a488479-a8e9-4dc8-a13c-927584f8ff65",
   "metadata": {},
   "source": [
    "#### Tuple"
   ]
  },
  {
   "cell_type": "markdown",
   "id": "57f2ed3d-4f3b-4be9-bfec-852be8a2f201",
   "metadata": {},
   "source": [
    "##### heterogenous\n",
    "#####  () or without any brackets"
   ]
  },
  {
   "cell_type": "code",
   "execution_count": 248,
   "id": "af0c995b-c3f4-4692-a399-bfbb9f251a6c",
   "metadata": {},
   "outputs": [
    {
     "data": {
      "text/plain": [
       "(1, 2, 3, 4, 5)"
      ]
     },
     "execution_count": 248,
     "metadata": {},
     "output_type": "execute_result"
    }
   ],
   "source": [
    "sample_tuple=(1,2,3,4,5)\n",
    "sample_tuple"
   ]
  },
  {
   "cell_type": "code",
   "execution_count": 249,
   "id": "9c6eda7c-ae86-4810-9628-73a58bc6b7a0",
   "metadata": {},
   "outputs": [
    {
     "data": {
      "text/plain": [
       "tuple"
      ]
     },
     "execution_count": 249,
     "metadata": {},
     "output_type": "execute_result"
    }
   ],
   "source": [
    "type(sample_tuple)"
   ]
  },
  {
   "cell_type": "code",
   "execution_count": 253,
   "id": "b038f157-9cae-416b-85ef-aa48ff84b87a",
   "metadata": {},
   "outputs": [
    {
     "data": {
      "text/plain": [
       "(1, 6, 8, ('kite', 'x', 19.6), [13, 17, 'good'])"
      ]
     },
     "execution_count": 253,
     "metadata": {},
     "output_type": "execute_result"
    }
   ],
   "source": [
    "tup1=(1,6,8,(\"kite\",\"x\",19.6),[13,17,\"good\"])\n",
    "tup1"
   ]
  },
  {
   "cell_type": "code",
   "execution_count": 251,
   "id": "b95db49a-76c9-4f5c-98e0-b962ba0ef4b3",
   "metadata": {},
   "outputs": [
    {
     "data": {
      "text/plain": [
       "tuple"
      ]
     },
     "execution_count": 251,
     "metadata": {},
     "output_type": "execute_result"
    }
   ],
   "source": [
    "type(t)"
   ]
  },
  {
   "cell_type": "code",
   "execution_count": 252,
   "id": "9ed3b225-4730-4119-98ef-fef63482ae13",
   "metadata": {},
   "outputs": [
    {
     "data": {
      "text/plain": [
       "1"
      ]
     },
     "execution_count": 252,
     "metadata": {},
     "output_type": "execute_result"
    }
   ],
   "source": [
    "tup1[0]"
   ]
  },
  {
   "cell_type": "code",
   "execution_count": 254,
   "id": "63d1591a-028e-46d3-b6b5-6992710fa260",
   "metadata": {},
   "outputs": [
    {
     "data": {
      "text/plain": [
       "('kite', 'x', 19.6)"
      ]
     },
     "execution_count": 254,
     "metadata": {},
     "output_type": "execute_result"
    }
   ],
   "source": [
    "tup1[3]"
   ]
  },
  {
   "cell_type": "code",
   "execution_count": 255,
   "id": "200cb426-2cba-4f4f-9f05-c765aa38215a",
   "metadata": {},
   "outputs": [
    {
     "data": {
      "text/plain": [
       "19.6"
      ]
     },
     "execution_count": 255,
     "metadata": {},
     "output_type": "execute_result"
    }
   ],
   "source": [
    "tup1[3][2]"
   ]
  },
  {
   "cell_type": "code",
   "execution_count": 257,
   "id": "a89e9cd3-812b-46e6-87a4-fe188d7a6df3",
   "metadata": {},
   "outputs": [
    {
     "data": {
      "text/plain": [
       "[13, 17]"
      ]
     },
     "execution_count": 257,
     "metadata": {},
     "output_type": "execute_result"
    }
   ],
   "source": [
    "tup1[4][0:2]"
   ]
  },
  {
   "cell_type": "code",
   "execution_count": null,
   "id": "8147d568-a2d1-47ed-be04-d99c7f08b224",
   "metadata": {},
   "outputs": [],
   "source": []
  }
 ],
 "metadata": {
  "kernelspec": {
   "display_name": "Python 3 (ipykernel)",
   "language": "python",
   "name": "python3"
  },
  "language_info": {
   "codemirror_mode": {
    "name": "ipython",
    "version": 3
   },
   "file_extension": ".py",
   "mimetype": "text/x-python",
   "name": "python",
   "nbconvert_exporter": "python",
   "pygments_lexer": "ipython3",
   "version": "3.11.7"
  }
 },
 "nbformat": 4,
 "nbformat_minor": 5
}
